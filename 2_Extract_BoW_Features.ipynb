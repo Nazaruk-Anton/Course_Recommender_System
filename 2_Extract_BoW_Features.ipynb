{
  "cells": [
    {
      "cell_type": "markdown",
      "metadata": {
        "id": "view-in-github",
        "colab_type": "text"
      },
      "source": [
        "<a href=\"https://colab.research.google.com/github/Nazaruk-Anton/Course_Recommender_System/blob/main/2_Extract_BoW_Features.ipynb\" target=\"_parent\"><img src=\"https://colab.research.google.com/assets/colab-badge.svg\" alt=\"Open In Colab\"/></a>"
      ]
    },
    {
      "cell_type": "markdown",
      "metadata": {
        "id": "YkHKsNq19KTA"
      },
      "source": [
        "# **Extract Bag of Words (BoW) Features from Course Textual Content**\n"
      ]
    },
    {
      "cell_type": "markdown",
      "metadata": {
        "id": "Du7Uixjp9KTC"
      },
      "source": [
        "The main goal of recommender systems is to help users find items they potentially interested in. Depending on the recommendation tasks, an item can be a movie, a restaurant, or, in our case, an online course.\n",
        "\n",
        "Machine learning algorithms cannot work on an item directly so we first need to extract features and represent the items mathematically, i.e., with a feature vector.\n",
        "\n",
        "Many items are often described by text so they are associated with textual data, such as the titles and descriptions of a movie or course. Since machine learning algorithms can not process textual data directly, we need to transform the raw text into numeric feature vectors.\n"
      ]
    },
    {
      "cell_type": "markdown",
      "metadata": {
        "id": "gBvF4cj_9KTD"
      },
      "source": [
        "![](https://cf-courses-data.s3.us.cloud-object-storage.appdomain.cloud/IBM-ML321EN-SkillsNetwork/labs/module\\_2/images/extract_textual_features.png)\n"
      ]
    },
    {
      "cell_type": "markdown",
      "metadata": {
        "id": "6GMdY6Ge9KTE"
      },
      "source": [
        "## Objectives\n"
      ]
    },
    {
      "cell_type": "markdown",
      "metadata": {
        "id": "3b5nl31U9KTF"
      },
      "source": [
        "*   Extract Bag of Words (BoW) features from course titles and descriptions\n",
        "*   Build a course BoW dataset to be used for building a content-based recommender system later\n"
      ]
    },
    {
      "cell_type": "markdown",
      "metadata": {
        "id": "J7ZeWFKm9KTF"
      },
      "source": [
        "***\n"
      ]
    },
    {
      "cell_type": "markdown",
      "metadata": {
        "id": "PCpKkExE9KTG"
      },
      "source": [
        "## Prepare and setup the lab environment\n"
      ]
    },
    {
      "cell_type": "markdown",
      "metadata": {
        "id": "LfMftLHE9KTG"
      },
      "source": [
        "First, let's install and import required libraries:\n"
      ]
    },
    {
      "cell_type": "code",
      "execution_count": 1,
      "metadata": {
        "id": "ZvewOfr_9KTH",
        "colab": {
          "base_uri": "https://localhost:8080/"
        },
        "outputId": "71c77763-859c-442f-d634-d4c49053a732"
      },
      "outputs": [
        {
          "output_type": "stream",
          "name": "stdout",
          "text": [
            "Looking in indexes: https://pypi.org/simple, https://us-python.pkg.dev/colab-wheels/public/simple/\n",
            "Collecting nltk==3.6.7\n",
            "  Downloading nltk-3.6.7-py3-none-any.whl (1.5 MB)\n",
            "\u001b[2K     \u001b[90m━━━━━━━━━━━━━━━━━━━━━━━━━━━━━━━━━━━━━━━━\u001b[0m \u001b[32m1.5/1.5 MB\u001b[0m \u001b[31m27.9 MB/s\u001b[0m eta \u001b[36m0:00:00\u001b[0m\n",
            "\u001b[?25hRequirement already satisfied: click in /usr/local/lib/python3.9/dist-packages (from nltk==3.6.7) (8.1.3)\n",
            "Requirement already satisfied: joblib in /usr/local/lib/python3.9/dist-packages (from nltk==3.6.7) (1.1.1)\n",
            "Requirement already satisfied: regex>=2021.8.3 in /usr/local/lib/python3.9/dist-packages (from nltk==3.6.7) (2022.10.31)\n",
            "Requirement already satisfied: tqdm in /usr/local/lib/python3.9/dist-packages (from nltk==3.6.7) (4.65.0)\n",
            "Installing collected packages: nltk\n",
            "  Attempting uninstall: nltk\n",
            "    Found existing installation: nltk 3.8.1\n",
            "    Uninstalling nltk-3.8.1:\n",
            "      Successfully uninstalled nltk-3.8.1\n",
            "Successfully installed nltk-3.6.7\n",
            "Looking in indexes: https://pypi.org/simple, https://us-python.pkg.dev/colab-wheels/public/simple/\n",
            "Collecting gensim==4.1.2\n",
            "  Downloading gensim-4.1.2-cp39-cp39-manylinux_2_12_x86_64.manylinux2010_x86_64.whl (24.0 MB)\n",
            "\u001b[2K     \u001b[90m━━━━━━━━━━━━━━━━━━━━━━━━━━━━━━━━━━━━━━━━\u001b[0m \u001b[32m24.0/24.0 MB\u001b[0m \u001b[31m46.7 MB/s\u001b[0m eta \u001b[36m0:00:00\u001b[0m\n",
            "\u001b[?25hRequirement already satisfied: numpy>=1.17.0 in /usr/local/lib/python3.9/dist-packages (from gensim==4.1.2) (1.22.4)\n",
            "Requirement already satisfied: scipy>=0.18.1 in /usr/local/lib/python3.9/dist-packages (from gensim==4.1.2) (1.10.1)\n",
            "Requirement already satisfied: smart-open>=1.8.1 in /usr/local/lib/python3.9/dist-packages (from gensim==4.1.2) (6.3.0)\n",
            "Installing collected packages: gensim\n",
            "  Attempting uninstall: gensim\n",
            "    Found existing installation: gensim 4.3.1\n",
            "    Uninstalling gensim-4.3.1:\n",
            "      Successfully uninstalled gensim-4.3.1\n",
            "Successfully installed gensim-4.1.2\n"
          ]
        }
      ],
      "source": [
        "!pip install nltk==3.6.7\n",
        "!pip install gensim==4.1.2"
      ]
    },
    {
      "cell_type": "code",
      "execution_count": 2,
      "metadata": {
        "id": "L-etXVHy9KTI"
      },
      "outputs": [],
      "source": [
        "import gensim\n",
        "import pandas as pd\n",
        "import nltk as nltk\n",
        "from nltk.corpus import stopwords\n",
        "from nltk.tokenize import word_tokenize\n",
        "from gensim import corpora\n",
        "\n",
        "%matplotlib inline"
      ]
    },
    {
      "cell_type": "markdown",
      "metadata": {
        "id": "nkxqpCPg9KTI"
      },
      "source": [
        "Download stopwords\n"
      ]
    },
    {
      "cell_type": "code",
      "execution_count": 3,
      "metadata": {
        "id": "3f7AoOXb9KTJ",
        "colab": {
          "base_uri": "https://localhost:8080/"
        },
        "outputId": "a63a4752-2283-46db-a108-55b8f48f10f5"
      },
      "outputs": [
        {
          "output_type": "stream",
          "name": "stderr",
          "text": [
            "[nltk_data] Downloading package punkt to /root/nltk_data...\n",
            "[nltk_data]   Unzipping tokenizers/punkt.zip.\n",
            "[nltk_data] Downloading package stopwords to /root/nltk_data...\n",
            "[nltk_data]   Unzipping corpora/stopwords.zip.\n",
            "[nltk_data] Downloading package averaged_perceptron_tagger to\n",
            "[nltk_data]     /root/nltk_data...\n",
            "[nltk_data]   Unzipping taggers/averaged_perceptron_tagger.zip.\n"
          ]
        },
        {
          "output_type": "execute_result",
          "data": {
            "text/plain": [
              "True"
            ]
          },
          "metadata": {},
          "execution_count": 3
        }
      ],
      "source": [
        "nltk.download('punkt')\n",
        "nltk.download('stopwords')\n",
        "nltk.download('averaged_perceptron_tagger')"
      ]
    },
    {
      "cell_type": "code",
      "execution_count": 4,
      "metadata": {
        "id": "onPjH7F-9KTJ"
      },
      "outputs": [],
      "source": [
        "# also set a random state\n",
        "rs = 123"
      ]
    },
    {
      "cell_type": "markdown",
      "metadata": {
        "id": "4js5ZnXs9KTJ"
      },
      "source": [
        "### Bag of Words (BoW) features\n"
      ]
    },
    {
      "cell_type": "markdown",
      "metadata": {
        "id": "tta_biTA9KTJ"
      },
      "source": [
        "BoW features are essentially the counts or frequencies of each word that appears in a text (string). Let's illustrate it with some simple examples.\n"
      ]
    },
    {
      "cell_type": "markdown",
      "metadata": {
        "id": "YNaIINK19KTJ"
      },
      "source": [
        "Suppose we have two course descriptions as follows:\n"
      ]
    },
    {
      "cell_type": "code",
      "execution_count": 5,
      "metadata": {
        "id": "hzSDfUvv9KTK"
      },
      "outputs": [],
      "source": [
        "course1 = \"this is an introduction data science course which introduces data science to beginners\""
      ]
    },
    {
      "cell_type": "code",
      "execution_count": 6,
      "metadata": {
        "id": "zLtQKjxi9KTK"
      },
      "outputs": [],
      "source": [
        "course2 = \"machine learning for beginners\""
      ]
    },
    {
      "cell_type": "code",
      "execution_count": 7,
      "metadata": {
        "id": "39hyFXJ_9KTK",
        "colab": {
          "base_uri": "https://localhost:8080/"
        },
        "outputId": "e57940ad-c0bf-4214-89f4-3bd61bea5bea"
      },
      "outputs": [
        {
          "output_type": "execute_result",
          "data": {
            "text/plain": [
              "['this is an introduction data science course which introduces data science to beginners',\n",
              " 'machine learning for beginners']"
            ]
          },
          "metadata": {},
          "execution_count": 7
        }
      ],
      "source": [
        "courses = [course1, course2]\n",
        "courses"
      ]
    },
    {
      "cell_type": "markdown",
      "metadata": {
        "id": "-hVwHh-L9KTK"
      },
      "source": [
        "The first step is to split the two strings into words (tokens). A token in the text processing context means the smallest unit of text such as a word, a symbol/punctuation, or a phrase, etc. The process to transform a string into a collection of tokens is called `tokenization`.\n"
      ]
    },
    {
      "cell_type": "markdown",
      "metadata": {
        "id": "flchAdJa9KTK"
      },
      "source": [
        "One common way to do `tokenization` is to use the Python built-in `split()` method of the `str` class.  However, in this lab, we want to leverage the `nltk` (Natural Language Toolkit) package, which is probably the most commonly used package to process text or natural language.\n"
      ]
    },
    {
      "cell_type": "markdown",
      "metadata": {
        "id": "pa7cD7AW9KTL"
      },
      "source": [
        "More specifically, we will use the `word_tokenize()` method on the content of course (string):\n"
      ]
    },
    {
      "cell_type": "code",
      "execution_count": 8,
      "metadata": {
        "id": "UU3-8Z7q9KTL"
      },
      "outputs": [],
      "source": [
        "# Tokenize the two courses\n",
        "tokenized_courses = [word_tokenize(course) for course in courses]"
      ]
    },
    {
      "cell_type": "code",
      "execution_count": 9,
      "metadata": {
        "id": "A_0FcUR89KTL",
        "colab": {
          "base_uri": "https://localhost:8080/"
        },
        "outputId": "e006fb0e-b2e8-4dbf-82fe-df5e47894beb"
      },
      "outputs": [
        {
          "output_type": "execute_result",
          "data": {
            "text/plain": [
              "[['this',\n",
              "  'is',\n",
              "  'an',\n",
              "  'introduction',\n",
              "  'data',\n",
              "  'science',\n",
              "  'course',\n",
              "  'which',\n",
              "  'introduces',\n",
              "  'data',\n",
              "  'science',\n",
              "  'to',\n",
              "  'beginners'],\n",
              " ['machine', 'learning', 'for', 'beginners']]"
            ]
          },
          "metadata": {},
          "execution_count": 9
        }
      ],
      "source": [
        "tokenized_courses"
      ]
    },
    {
      "cell_type": "markdown",
      "metadata": {
        "id": "eJ5YW7cE9KTL"
      },
      "source": [
        "As you can see from the cell output, two courses have been tokenized and turned into two token arrays.\n"
      ]
    },
    {
      "cell_type": "markdown",
      "metadata": {
        "id": "Z1uwsSTf9KTM"
      },
      "source": [
        "Next, we want to create a token dictionary to index all tokens. Basically, we want to assign a key/index for each token. One way to index tokens is to use the `gensim` package which is another popular package for processing textual data:\n"
      ]
    },
    {
      "cell_type": "code",
      "execution_count": 10,
      "metadata": {
        "id": "mtRo_R0d9KTM"
      },
      "outputs": [],
      "source": [
        "# Create a token dictionary for the two courses\n",
        "tokens_dict = gensim.corpora.Dictionary(tokenized_courses)"
      ]
    },
    {
      "cell_type": "code",
      "execution_count": 11,
      "metadata": {
        "id": "A4Tr7Oem9KTM",
        "colab": {
          "base_uri": "https://localhost:8080/"
        },
        "outputId": "af7b5489-b58e-4920-bb08-0757e4b845af"
      },
      "outputs": [
        {
          "output_type": "stream",
          "name": "stdout",
          "text": [
            "{'an': 0, 'beginners': 1, 'course': 2, 'data': 3, 'introduces': 4, 'introduction': 5, 'is': 6, 'science': 7, 'this': 8, 'to': 9, 'which': 10, 'for': 11, 'learning': 12, 'machine': 13}\n"
          ]
        }
      ],
      "source": [
        "print(tokens_dict.token2id)"
      ]
    },
    {
      "cell_type": "markdown",
      "metadata": {
        "id": "GXmVlebN9KTM"
      },
      "source": [
        "With the token dictionary, we can easily count each token in the two example courses and output two BoW feature vectors. However, more conveniently, the `gensim` package provides us a `doc2bow` method to generate BoW features out-of-box.\n"
      ]
    },
    {
      "cell_type": "code",
      "execution_count": 12,
      "metadata": {
        "id": "1qcgH3Xh9KTM"
      },
      "outputs": [],
      "source": [
        "# Generate BoW features for each course\n",
        "courses_bow = [tokens_dict.doc2bow(course) for course in tokenized_courses]"
      ]
    },
    {
      "cell_type": "code",
      "execution_count": 13,
      "metadata": {
        "id": "1ZX73jWC9KTM",
        "colab": {
          "base_uri": "https://localhost:8080/"
        },
        "outputId": "658ec252-fd4b-4b5e-90de-28e1c4a1ac76"
      },
      "outputs": [
        {
          "output_type": "execute_result",
          "data": {
            "text/plain": [
              "[[(0, 1),\n",
              "  (1, 1),\n",
              "  (2, 1),\n",
              "  (3, 2),\n",
              "  (4, 1),\n",
              "  (5, 1),\n",
              "  (6, 1),\n",
              "  (7, 2),\n",
              "  (8, 1),\n",
              "  (9, 1),\n",
              "  (10, 1)],\n",
              " [(1, 1), (11, 1), (12, 1), (13, 1)]]"
            ]
          },
          "metadata": {},
          "execution_count": 13
        }
      ],
      "source": [
        "courses_bow"
      ]
    },
    {
      "cell_type": "markdown",
      "metadata": {
        "id": "pi8pEr0m9KTN"
      },
      "source": [
        "It outputs two BoW arrays where each element is a tuple, e.g., (0, 1) and (7, 2). The first element of the tuple is the token ID and the second element is its count. So `(0, 1)` means `(``an``, 1)` and `(7, 2)` means `(``science``, 2)`.\n"
      ]
    },
    {
      "cell_type": "markdown",
      "metadata": {
        "id": "dN9svfzc9KTN"
      },
      "source": [
        "We can use the following code snippet to print each token and its count:\n"
      ]
    },
    {
      "cell_type": "code",
      "execution_count": 14,
      "metadata": {
        "id": "IS9VoDku9KTN",
        "colab": {
          "base_uri": "https://localhost:8080/"
        },
        "outputId": "2df818d2-be87-4faf-cac5-f9a32bd653e0"
      },
      "outputs": [
        {
          "output_type": "stream",
          "name": "stdout",
          "text": [
            "Bag of words for course 0:\n",
            "--Token: 'an', Count:1\n",
            "--Token: 'beginners', Count:1\n",
            "--Token: 'course', Count:1\n",
            "--Token: 'data', Count:2\n",
            "--Token: 'introduces', Count:1\n",
            "--Token: 'introduction', Count:1\n",
            "--Token: 'is', Count:1\n",
            "--Token: 'science', Count:2\n",
            "--Token: 'this', Count:1\n",
            "--Token: 'to', Count:1\n",
            "--Token: 'which', Count:1\n",
            "Bag of words for course 1:\n",
            "--Token: 'beginners', Count:1\n",
            "--Token: 'for', Count:1\n",
            "--Token: 'learning', Count:1\n",
            "--Token: 'machine', Count:1\n"
          ]
        }
      ],
      "source": [
        "for course_idx, course_bow in enumerate(courses_bow):\n",
        "    print(f\"Bag of words for course {course_idx}:\")\n",
        "    # For each token index, print its bow value (word count)\n",
        "    for token_index, token_bow in course_bow:\n",
        "        token = tokens_dict.get(token_index)\n",
        "        print(f\"--Token: '{token}', Count:{token_bow}\")"
      ]
    },
    {
      "cell_type": "markdown",
      "metadata": {
        "id": "jnlaF_lz9KTN"
      },
      "source": [
        "If we turn to the long list into a horizontal feature vectors, we can see the two courses become two numerical feature vectors:\n"
      ]
    },
    {
      "cell_type": "markdown",
      "metadata": {
        "id": "qznML7oa9KTN"
      },
      "source": [
        "![](https://cf-courses-data.s3.us.cloud-object-storage.appdomain.cloud/IBM-ML321EN-SkillsNetwork/labs/module\\_2/images/bow.png)\n"
      ]
    },
    {
      "cell_type": "markdown",
      "metadata": {
        "id": "SjTBOWr69KTN"
      },
      "source": [
        "### BoW dimensionality reduction\n"
      ]
    },
    {
      "cell_type": "markdown",
      "metadata": {
        "id": "VBXrOovF9KTO"
      },
      "source": [
        "A document may contain tens of thousands of words which makes the dimension of the BoW feature vector huge. To reduce the dimensionality, one common way is to filter the relatively meaningless tokens such as stop words or sometimes add position and adjective words.\n"
      ]
    },
    {
      "cell_type": "markdown",
      "metadata": {
        "id": "VOqC-TMS9KTO"
      },
      "source": [
        "Note there are many other ways to reduce dimensionality such as `stemming` and `lemmatization` but they are beyond the scope of this capstone project. You are encouraged to explore them yourself.\n"
      ]
    },
    {
      "cell_type": "markdown",
      "metadata": {
        "id": "YVhzgrNf9KTO"
      },
      "source": [
        "We can use the english stop words provided in `nltk`:\n"
      ]
    },
    {
      "cell_type": "code",
      "execution_count": 15,
      "metadata": {
        "id": "l6PSZqDR9KTO"
      },
      "outputs": [],
      "source": [
        "stop_words = set(stopwords.words('english'))"
      ]
    },
    {
      "cell_type": "code",
      "execution_count": 16,
      "metadata": {
        "id": "u9x2LWCF9KTO",
        "colab": {
          "base_uri": "https://localhost:8080/"
        },
        "outputId": "e1605f88-e240-46d4-b1e9-6aba05463b00"
      },
      "outputs": [
        {
          "output_type": "execute_result",
          "data": {
            "text/plain": [
              "{'a',\n",
              " 'about',\n",
              " 'above',\n",
              " 'after',\n",
              " 'again',\n",
              " 'against',\n",
              " 'ain',\n",
              " 'all',\n",
              " 'am',\n",
              " 'an',\n",
              " 'and',\n",
              " 'any',\n",
              " 'are',\n",
              " 'aren',\n",
              " \"aren't\",\n",
              " 'as',\n",
              " 'at',\n",
              " 'be',\n",
              " 'because',\n",
              " 'been',\n",
              " 'before',\n",
              " 'being',\n",
              " 'below',\n",
              " 'between',\n",
              " 'both',\n",
              " 'but',\n",
              " 'by',\n",
              " 'can',\n",
              " 'couldn',\n",
              " \"couldn't\",\n",
              " 'd',\n",
              " 'did',\n",
              " 'didn',\n",
              " \"didn't\",\n",
              " 'do',\n",
              " 'does',\n",
              " 'doesn',\n",
              " \"doesn't\",\n",
              " 'doing',\n",
              " 'don',\n",
              " \"don't\",\n",
              " 'down',\n",
              " 'during',\n",
              " 'each',\n",
              " 'few',\n",
              " 'for',\n",
              " 'from',\n",
              " 'further',\n",
              " 'had',\n",
              " 'hadn',\n",
              " \"hadn't\",\n",
              " 'has',\n",
              " 'hasn',\n",
              " \"hasn't\",\n",
              " 'have',\n",
              " 'haven',\n",
              " \"haven't\",\n",
              " 'having',\n",
              " 'he',\n",
              " 'her',\n",
              " 'here',\n",
              " 'hers',\n",
              " 'herself',\n",
              " 'him',\n",
              " 'himself',\n",
              " 'his',\n",
              " 'how',\n",
              " 'i',\n",
              " 'if',\n",
              " 'in',\n",
              " 'into',\n",
              " 'is',\n",
              " 'isn',\n",
              " \"isn't\",\n",
              " 'it',\n",
              " \"it's\",\n",
              " 'its',\n",
              " 'itself',\n",
              " 'just',\n",
              " 'll',\n",
              " 'm',\n",
              " 'ma',\n",
              " 'me',\n",
              " 'mightn',\n",
              " \"mightn't\",\n",
              " 'more',\n",
              " 'most',\n",
              " 'mustn',\n",
              " \"mustn't\",\n",
              " 'my',\n",
              " 'myself',\n",
              " 'needn',\n",
              " \"needn't\",\n",
              " 'no',\n",
              " 'nor',\n",
              " 'not',\n",
              " 'now',\n",
              " 'o',\n",
              " 'of',\n",
              " 'off',\n",
              " 'on',\n",
              " 'once',\n",
              " 'only',\n",
              " 'or',\n",
              " 'other',\n",
              " 'our',\n",
              " 'ours',\n",
              " 'ourselves',\n",
              " 'out',\n",
              " 'over',\n",
              " 'own',\n",
              " 're',\n",
              " 's',\n",
              " 'same',\n",
              " 'shan',\n",
              " \"shan't\",\n",
              " 'she',\n",
              " \"she's\",\n",
              " 'should',\n",
              " \"should've\",\n",
              " 'shouldn',\n",
              " \"shouldn't\",\n",
              " 'so',\n",
              " 'some',\n",
              " 'such',\n",
              " 't',\n",
              " 'than',\n",
              " 'that',\n",
              " \"that'll\",\n",
              " 'the',\n",
              " 'their',\n",
              " 'theirs',\n",
              " 'them',\n",
              " 'themselves',\n",
              " 'then',\n",
              " 'there',\n",
              " 'these',\n",
              " 'they',\n",
              " 'this',\n",
              " 'those',\n",
              " 'through',\n",
              " 'to',\n",
              " 'too',\n",
              " 'under',\n",
              " 'until',\n",
              " 'up',\n",
              " 've',\n",
              " 'very',\n",
              " 'was',\n",
              " 'wasn',\n",
              " \"wasn't\",\n",
              " 'we',\n",
              " 'were',\n",
              " 'weren',\n",
              " \"weren't\",\n",
              " 'what',\n",
              " 'when',\n",
              " 'where',\n",
              " 'which',\n",
              " 'while',\n",
              " 'who',\n",
              " 'whom',\n",
              " 'why',\n",
              " 'will',\n",
              " 'with',\n",
              " 'won',\n",
              " \"won't\",\n",
              " 'wouldn',\n",
              " \"wouldn't\",\n",
              " 'y',\n",
              " 'you',\n",
              " \"you'd\",\n",
              " \"you'll\",\n",
              " \"you're\",\n",
              " \"you've\",\n",
              " 'your',\n",
              " 'yours',\n",
              " 'yourself',\n",
              " 'yourselves'}"
            ]
          },
          "metadata": {},
          "execution_count": 16
        }
      ],
      "source": [
        "stop_words"
      ]
    },
    {
      "cell_type": "markdown",
      "metadata": {
        "id": "hIk3mM9s9KTO"
      },
      "source": [
        "Then we can filter those English stop words from the tokens in course1:\n"
      ]
    },
    {
      "cell_type": "code",
      "execution_count": 17,
      "metadata": {
        "id": "_6kZrB759KTO",
        "colab": {
          "base_uri": "https://localhost:8080/"
        },
        "outputId": "5de141a5-203a-476a-b12b-e5e81a67abe8"
      },
      "outputs": [
        {
          "output_type": "execute_result",
          "data": {
            "text/plain": [
              "['this',\n",
              " 'is',\n",
              " 'an',\n",
              " 'introduction',\n",
              " 'data',\n",
              " 'science',\n",
              " 'course',\n",
              " 'which',\n",
              " 'introduces',\n",
              " 'data',\n",
              " 'science',\n",
              " 'to',\n",
              " 'beginners']"
            ]
          },
          "metadata": {},
          "execution_count": 17
        }
      ],
      "source": [
        "# Tokens in course 1\n",
        "tokenized_courses[0]"
      ]
    },
    {
      "cell_type": "code",
      "execution_count": 18,
      "metadata": {
        "id": "7hQXkd0i9KTP"
      },
      "outputs": [],
      "source": [
        "processed_tokens = [w for w in tokenized_courses[0] if not w.lower() in stop_words]"
      ]
    },
    {
      "cell_type": "code",
      "execution_count": 19,
      "metadata": {
        "id": "4BNGj-wb9KTP",
        "colab": {
          "base_uri": "https://localhost:8080/"
        },
        "outputId": "61b3adfa-2d04-4b4d-9165-44ce7c7195aa"
      },
      "outputs": [
        {
          "output_type": "execute_result",
          "data": {
            "text/plain": [
              "['introduction',\n",
              " 'data',\n",
              " 'science',\n",
              " 'course',\n",
              " 'introduces',\n",
              " 'data',\n",
              " 'science',\n",
              " 'beginners']"
            ]
          },
          "metadata": {},
          "execution_count": 19
        }
      ],
      "source": [
        "processed_tokens"
      ]
    },
    {
      "cell_type": "markdown",
      "metadata": {
        "id": "DtlNnwNo9KTP"
      },
      "source": [
        "You can see the number of tokens for `course1` has been reduced.\n"
      ]
    },
    {
      "cell_type": "markdown",
      "metadata": {
        "id": "UZWbU9189KTP"
      },
      "source": [
        "Another common way is to only keep nouns in the text. We can use the `nltk.pos_tag()` method to analyze the part of speech (POS) and annotate each word.\n"
      ]
    },
    {
      "cell_type": "code",
      "execution_count": 20,
      "metadata": {
        "id": "PcenkQDN9KTP",
        "colab": {
          "base_uri": "https://localhost:8080/"
        },
        "outputId": "83ed693c-4e20-41d0-e428-392f07ea00d7"
      },
      "outputs": [
        {
          "output_type": "execute_result",
          "data": {
            "text/plain": [
              "[('this', 'DT'),\n",
              " ('is', 'VBZ'),\n",
              " ('an', 'DT'),\n",
              " ('introduction', 'NN'),\n",
              " ('data', 'NNS'),\n",
              " ('science', 'NN'),\n",
              " ('course', 'NN'),\n",
              " ('which', 'WDT'),\n",
              " ('introduces', 'VBZ'),\n",
              " ('data', 'NNS'),\n",
              " ('science', 'NN'),\n",
              " ('to', 'TO'),\n",
              " ('beginners', 'NNS')]"
            ]
          },
          "metadata": {},
          "execution_count": 20
        }
      ],
      "source": [
        "tags = nltk.pos_tag(tokenized_courses[0])\n",
        "tags"
      ]
    },
    {
      "cell_type": "markdown",
      "metadata": {
        "id": "XYj7C_oB9KTP"
      },
      "source": [
        "As we can see \\[`introduction`, `data`, `science`, `course`, `beginners`] are all of the nouns and we may keep them in the BoW feature vector.\n"
      ]
    },
    {
      "cell_type": "markdown",
      "metadata": {
        "id": "bu4tNunj9KTP"
      },
      "source": [
        "### Extract BoW features for course textual content and build a dataset\n"
      ]
    },
    {
      "cell_type": "code",
      "execution_count": 21,
      "metadata": {
        "id": "I7GmiHs19KTQ"
      },
      "outputs": [],
      "source": [
        "course_url = \"https://cf-courses-data.s3.us.cloud-object-storage.appdomain.cloud/IBM-ML321EN-SkillsNetwork/labs/datasets/course_processed.csv\"\n",
        "course_content_df = pd.read_csv(course_url)"
      ]
    },
    {
      "cell_type": "code",
      "execution_count": 22,
      "metadata": {
        "id": "OrEfN0K89KTQ",
        "colab": {
          "base_uri": "https://localhost:8080/"
        },
        "outputId": "8415425f-c549-4c2b-e25f-96a020fcff0e"
      },
      "outputs": [
        {
          "output_type": "execute_result",
          "data": {
            "text/plain": [
              "COURSE_ID                                               ML0201EN\n",
              "TITLE          robots are coming  build iot apps with watson ...\n",
              "DESCRIPTION    have fun with iot and learn along the way  if ...\n",
              "Name: 0, dtype: object"
            ]
          },
          "metadata": {},
          "execution_count": 22
        }
      ],
      "source": [
        "course_content_df.iloc[0, :]"
      ]
    },
    {
      "cell_type": "markdown",
      "metadata": {
        "id": "AkmbRAtx9KTQ"
      },
      "source": [
        "The course content dataset has three columns `COURSE_ID`, `TITLE`, and `DESCRIPTION`. `TITLE` and `DESCRIPTION` are all text upon which we want to extract BoW features.\n"
      ]
    },
    {
      "cell_type": "markdown",
      "metadata": {
        "id": "SNdGL3zK9KTQ"
      },
      "source": [
        "Let's join those two text columns together.\n"
      ]
    },
    {
      "cell_type": "code",
      "execution_count": 23,
      "metadata": {
        "id": "6qUliNbD9KTQ"
      },
      "outputs": [],
      "source": [
        "# Merge TITLE and DESCRIPTION title\n",
        "course_content_df['course_texts'] = course_content_df[['TITLE', 'DESCRIPTION']].agg(' '.join, axis=1)\n",
        "course_content_df = course_content_df.reset_index()\n",
        "course_content_df['index'] = course_content_df.index"
      ]
    },
    {
      "cell_type": "code",
      "execution_count": 24,
      "metadata": {
        "id": "NbV10fN69KTR",
        "colab": {
          "base_uri": "https://localhost:8080/"
        },
        "outputId": "e77f9c67-ae7d-4172-8775-726abdcd919f"
      },
      "outputs": [
        {
          "output_type": "execute_result",
          "data": {
            "text/plain": [
              "index                                                           0\n",
              "COURSE_ID                                                ML0201EN\n",
              "TITLE           robots are coming  build iot apps with watson ...\n",
              "DESCRIPTION     have fun with iot and learn along the way  if ...\n",
              "course_texts    robots are coming  build iot apps with watson ...\n",
              "Name: 0, dtype: object"
            ]
          },
          "metadata": {},
          "execution_count": 24
        }
      ],
      "source": [
        "course_content_df.iloc[0, :]"
      ]
    },
    {
      "cell_type": "markdown",
      "metadata": {
        "id": "-j4fbMVH9KTR"
      },
      "source": [
        "and we have prepared a `tokenize_course()` method for you to tokenize the course content:\n"
      ]
    },
    {
      "cell_type": "code",
      "execution_count": 25,
      "metadata": {
        "id": "kOwMaKJL9KTR"
      },
      "outputs": [],
      "source": [
        "def tokenize_course(course, keep_only_nouns=True):\n",
        "    stop_words = set(stopwords.words('english'))\n",
        "    word_tokens = word_tokenize(course)\n",
        "    # Remove English stop words and numbers\n",
        "    word_tokens = [w for w in word_tokens if (not w.lower() in stop_words) and (not w.isnumeric())]\n",
        "    # Only keep nouns \n",
        "    if keep_only_nouns:\n",
        "        filter_list = ['WDT', 'WP', 'WRB', 'FW', 'IN', 'JJR', 'JJS', 'MD', 'PDT', 'POS', 'PRP', 'RB', 'RBR', 'RBS',\n",
        "                       'RP']\n",
        "        tags = nltk.pos_tag(word_tokens)\n",
        "        word_tokens = [word for word, pos in tags if pos not in filter_list]\n",
        "\n",
        "    return word_tokens"
      ]
    },
    {
      "cell_type": "markdown",
      "metadata": {
        "id": "mfH765FG9KTR"
      },
      "source": [
        "Let's try it on the first course.\n"
      ]
    },
    {
      "cell_type": "code",
      "execution_count": 26,
      "metadata": {
        "id": "lpyrufpS9KTS",
        "colab": {
          "base_uri": "https://localhost:8080/",
          "height": 70
        },
        "outputId": "a44ab0a4-280c-435b-f222-767222d81c01"
      },
      "outputs": [
        {
          "output_type": "execute_result",
          "data": {
            "text/plain": [
              "'robots are coming  build iot apps with watson  swift  and node red have fun with iot and learn along the way  if you re a swift developer and want to learn more about iot and watson ai services in the cloud  raspberry pi   and node red  you ve found the right place  you ll build iot apps to read temperature data  take pictures with a raspcam  use ai to recognize the objects in those pictures  and program an irobot create 2 robot  '"
            ],
            "application/vnd.google.colaboratory.intrinsic+json": {
              "type": "string"
            }
          },
          "metadata": {},
          "execution_count": 26
        }
      ],
      "source": [
        "a_course = course_content_df.iloc[0, :]['course_texts']\n",
        "a_course"
      ]
    },
    {
      "cell_type": "code",
      "execution_count": 27,
      "metadata": {
        "id": "zZ9Da-1P9KTS",
        "colab": {
          "base_uri": "https://localhost:8080/"
        },
        "outputId": "9fdd0748-75f6-4df5-c9ad-f9254f0bec5b"
      },
      "outputs": [
        {
          "output_type": "execute_result",
          "data": {
            "text/plain": [
              "['robots',\n",
              " 'coming',\n",
              " 'build',\n",
              " 'iot',\n",
              " 'apps',\n",
              " 'watson',\n",
              " 'swift',\n",
              " 'red',\n",
              " 'fun',\n",
              " 'iot',\n",
              " 'learn',\n",
              " 'way',\n",
              " 'swift',\n",
              " 'developer',\n",
              " 'want',\n",
              " 'learn',\n",
              " 'iot',\n",
              " 'watson',\n",
              " 'ai',\n",
              " 'services',\n",
              " 'cloud',\n",
              " 'raspberry',\n",
              " 'pi',\n",
              " 'node',\n",
              " 'red',\n",
              " 'found',\n",
              " 'place',\n",
              " 'build',\n",
              " 'iot',\n",
              " 'apps',\n",
              " 'read',\n",
              " 'temperature',\n",
              " 'data',\n",
              " 'take',\n",
              " 'pictures',\n",
              " 'raspcam',\n",
              " 'use',\n",
              " 'ai',\n",
              " 'recognize',\n",
              " 'objects',\n",
              " 'pictures',\n",
              " 'program',\n",
              " 'irobot',\n",
              " 'create',\n",
              " 'robot']"
            ]
          },
          "metadata": {},
          "execution_count": 27
        }
      ],
      "source": [
        "tokenize_course(a_course)"
      ]
    },
    {
      "cell_type": "markdown",
      "metadata": {
        "id": "A88WpAJB9KTT"
      },
      "source": [
        "Next, you will need to write some code snippets to generate the BoW features for each course. Let's start by tokenzing all courses in the `courses_df`:\n"
      ]
    },
    {
      "cell_type": "markdown",
      "metadata": {
        "id": "PnBJCfEM9KTT"
      },
      "source": [
        "Use provided tokenize_course() method to tokenize all courses in courses_df\\['course_texts'].\n"
      ]
    },
    {
      "cell_type": "code",
      "execution_count": 28,
      "metadata": {
        "id": "SDwFxMWg9KTT"
      },
      "outputs": [],
      "source": [
        "tokenized_courses = [tokenize_course(course_text) for course_text in course_content_df['course_texts']]\n",
        "tokenized_courses[:1]"
      ]
    },
    {
      "cell_type": "markdown",
      "metadata": {
        "id": "DWoK64Jq9KTU"
      },
      "source": [
        "Then we need to create a token dictionary `tokens_dict`\n"
      ]
    },
    {
      "cell_type": "markdown",
      "metadata": {
        "id": "zF5J1f2M9KTU"
      },
      "source": [
        "Use gensim.corpora.Dictionary(tokenized_courses) to create a token dictionary.\n"
      ]
    },
    {
      "cell_type": "code",
      "execution_count": 29,
      "metadata": {
        "id": "3R8BL0Bs9KTU"
      },
      "outputs": [],
      "source": [
        "tokens_dict = gensim.corpora.Dictionary(tokenized_courses)\n",
        "print(tokens_dict.token2id)"
      ]
    },
    {
      "cell_type": "markdown",
      "metadata": {
        "id": "mIA4HhTl9KTU"
      },
      "source": [
        "Then we can use `doc2bow()` method to generate BoW features for each tokenized course.\n"
      ]
    },
    {
      "cell_type": "markdown",
      "metadata": {
        "id": "qrRlmvax9KTU"
      },
      "source": [
        "Use tokens_dict.doc2bow() to generate BoW features for each tokenized course.\n"
      ]
    },
    {
      "cell_type": "code",
      "execution_count": 30,
      "metadata": {
        "id": "rFZdeUCa9KTU"
      },
      "outputs": [],
      "source": [
        "courses_bow = [tokens_dict.doc2bow(course) for course in tokenized_courses]\n",
        "courses_bow[:1]"
      ]
    },
    {
      "cell_type": "markdown",
      "metadata": {
        "id": "LxvjnJGY9KTU"
      },
      "source": [
        "Lastly, you need to append the BoW features for each course into a new BoW dataframe. The new dataframe needs to include the following columns (you may include other relevant columns as well):\n",
        "\n",
        "*   'doc_index': the course index starting from 0\n",
        "*   'doc_id': the actual course id such as `ML0201EN`\n",
        "*   'token': the tokens for each course\n",
        "*   'bow': the bow value for each token\n"
      ]
    },
    {
      "cell_type": "markdown",
      "metadata": {
        "id": "L3kNMQ2L9KTU"
      },
      "source": [
        "Create a new course_bow dataframe based on the extracted BoW features.\n"
      ]
    },
    {
      "cell_type": "code",
      "execution_count": 31,
      "metadata": {
        "id": "0C_bWPMv9KTV"
      },
      "outputs": [],
      "source": [
        "doc_index = []\n",
        "doc_id = []\n",
        "bags_of_token = []\n",
        "bow = []\n",
        "\n",
        "for idx, bag in enumerate(courses_bow):\n",
        "    for word in bag:\n",
        "        token = tokens_dict[word[0]]\n",
        "        doc_index.append(idx)\n",
        "        doc_id.append(course_content_df['COURSE_ID'][idx])\n",
        "        bags_of_token.append(token)\n",
        "        bow.append(word[1])\n",
        "\n",
        "\n",
        "bow_dicts = {\"doc_index\": doc_index,\n",
        "           \"doc_id\": doc_id,\n",
        "            \"token\": bags_of_token,\n",
        "            \"bow\": bow}\n",
        "pd.DataFrame(bow_dicts)"
      ]
    }
  ],
  "metadata": {
    "kernelspec": {
      "display_name": "Python 3",
      "language": "python",
      "name": "python3"
    },
    "language_info": {
      "codemirror_mode": {
        "name": "ipython",
        "version": 3
      },
      "file_extension": ".py",
      "mimetype": "text/x-python",
      "name": "python",
      "nbconvert_exporter": "python",
      "pygments_lexer": "ipython3",
      "version": "3.8.2"
    },
    "colab": {
      "provenance": [],
      "include_colab_link": true
    }
  },
  "nbformat": 4,
  "nbformat_minor": 0
}