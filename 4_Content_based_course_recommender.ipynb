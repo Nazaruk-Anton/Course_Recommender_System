{
  "cells": [
    {
      "cell_type": "markdown",
      "metadata": {
        "id": "view-in-github",
        "colab_type": "text"
      },
      "source": [
        "<a href=\"https://colab.research.google.com/github/Nazaruk-Anton/Course_Recommender_System/blob/main/4_Content_based_course_recommender.ipynb\" target=\"_parent\"><img src=\"https://colab.research.google.com/assets/colab-badge.svg\" alt=\"Open In Colab\"/></a>"
      ]
    },
    {
      "cell_type": "markdown",
      "metadata": {
        "id": "zvyVfAxGA4F8"
      },
      "source": [
        "<p style=\"text-align:center\">\n",
        "    <a href=\"https://skills.network/?utm_medium=Exinfluencer&utm_source=Exinfluencer&utm_content=000026UJ&utm_term=10006555&utm_id=NA-SkillsNetwork-Channel-SkillsNetworkCoursesIBMML321ENSkillsNetwork32585014-2022-01-01\" target=\"_blank\">\n",
        "    <img src=\"https://cf-courses-data.s3.us.cloud-object-storage.appdomain.cloud/assets/logos/SN_web_lightmode.png\" width=\"200\" alt=\"Skills Network Logo\"  />\n",
        "    </a>\n",
        "</p>\n"
      ]
    },
    {
      "cell_type": "markdown",
      "metadata": {
        "id": "eTj5i04hA4GF"
      },
      "source": [
        "# **Content-based Course Recommender System Using User Profile and Course Genres**\n"
      ]
    },
    {
      "cell_type": "markdown",
      "metadata": {
        "id": "I-DUVUzAA4GG"
      },
      "source": [
        "The most common type of content-based recommendation system is to recommend items to users based on their profiles. The user's profile revolves around that user's preferences and tastes. It is shaped based on user ratings, including the number of times a user has clicked on different items or liked those items.\n",
        "\n",
        "The recommendation process is based on the similarity between those items. The similarity or closeness of items is measured based on the similarity in the content of those items. When we say content, we're talking about things like the item's category, tag, genre, and so on. Essentially the features about an item.\n"
      ]
    },
    {
      "cell_type": "markdown",
      "metadata": {
        "id": "BCxnE7R-A4GG"
      },
      "source": [
        "For online course recommender systems, we already know how to extract features from courses (such as genres or BoW features). Next, based on the course genres and users' ratings, we want to further build user profiles (if unknown).\n",
        "\n",
        "A user profile can be seen as the user feature vector that mathematically represents a user's learning interests.\n"
      ]
    },
    {
      "cell_type": "markdown",
      "metadata": {
        "id": "rqDICWc_A4GH"
      },
      "source": [
        "With the user profile feature vectors and course genre feature vectors constructed, we can use several computational methods, such as a simple dot product, to compute or predict an interest score for each course and recommend those courses with high interest scores.\n"
      ]
    },
    {
      "cell_type": "markdown",
      "metadata": {
        "id": "lBmPWVFzA4GH"
      },
      "source": [
        "![](https://cf-courses-data.s3.us.cloud-object-storage.appdomain.cloud/IBM-ML321EN-SkillsNetwork/labs/module\\_3/images/user_profile_score.png)\n"
      ]
    },
    {
      "cell_type": "markdown",
      "metadata": {
        "id": "ypjjdqU3A4GI"
      },
      "source": [
        "## Objectives\n"
      ]
    },
    {
      "cell_type": "markdown",
      "metadata": {
        "id": "agYgBg9ZA4GJ"
      },
      "source": [
        "*   Generate a user profile based on course genres and rating\n",
        "*   Generate course recommendations based on a user's profile and course genres\n"
      ]
    },
    {
      "cell_type": "markdown",
      "metadata": {
        "id": "0GONXpnmA4GJ"
      },
      "source": [
        "***\n"
      ]
    },
    {
      "cell_type": "markdown",
      "metadata": {
        "id": "R1iUmOvrA4GK"
      },
      "source": [
        "## Prepare and setup the lab environment\n"
      ]
    },
    {
      "cell_type": "markdown",
      "metadata": {
        "id": "I_TUKEXKA4GL"
      },
      "source": [
        "First, let's install and import the required packages.\n"
      ]
    },
    {
      "cell_type": "code",
      "execution_count": 1,
      "metadata": {
        "id": "y_cUFVDtA4GL",
        "outputId": "5c349273-2a69-4dca-8d4a-712904b87c62",
        "colab": {
          "base_uri": "https://localhost:8080/"
        }
      },
      "outputs": [
        {
          "output_type": "stream",
          "name": "stdout",
          "text": [
            "Looking in indexes: https://pypi.org/simple, https://us-python.pkg.dev/colab-wheels/public/simple/\n",
            "Collecting scikit-learn==1.0.2\n",
            "  Downloading scikit_learn-1.0.2-cp39-cp39-manylinux_2_17_x86_64.manylinux2014_x86_64.whl (26.4 MB)\n",
            "\u001b[2K     \u001b[90m━━━━━━━━━━━━━━━━━━━━━━━━━━━━━━━━━━━━━━━━\u001b[0m \u001b[32m26.4/26.4 MB\u001b[0m \u001b[31m26.1 MB/s\u001b[0m eta \u001b[36m0:00:00\u001b[0m\n",
            "\u001b[?25hRequirement already satisfied: numpy>=1.14.6 in /usr/local/lib/python3.9/dist-packages (from scikit-learn==1.0.2) (1.22.4)\n",
            "Requirement already satisfied: joblib>=0.11 in /usr/local/lib/python3.9/dist-packages (from scikit-learn==1.0.2) (1.1.1)\n",
            "Requirement already satisfied: scipy>=1.1.0 in /usr/local/lib/python3.9/dist-packages (from scikit-learn==1.0.2) (1.10.1)\n",
            "Requirement already satisfied: threadpoolctl>=2.0.0 in /usr/local/lib/python3.9/dist-packages (from scikit-learn==1.0.2) (3.1.0)\n",
            "Installing collected packages: scikit-learn\n",
            "  Attempting uninstall: scikit-learn\n",
            "    Found existing installation: scikit-learn 1.2.2\n",
            "    Uninstalling scikit-learn-1.2.2:\n",
            "      Successfully uninstalled scikit-learn-1.2.2\n",
            "Successfully installed scikit-learn-1.0.2\n"
          ]
        }
      ],
      "source": [
        "!pip install scikit-learn==1.0.2"
      ]
    },
    {
      "cell_type": "code",
      "execution_count": 2,
      "metadata": {
        "id": "cGDRoVjNA4GN"
      },
      "outputs": [],
      "source": [
        "import pandas as pd\n",
        "import numpy as np\n",
        "from sklearn import preprocessing"
      ]
    },
    {
      "cell_type": "code",
      "execution_count": 3,
      "metadata": {
        "id": "1Luht0KQA4GO"
      },
      "outputs": [],
      "source": [
        "# also set a random state\n",
        "rs = 123"
      ]
    },
    {
      "cell_type": "markdown",
      "metadata": {
        "id": "0itkJjgYA4GO"
      },
      "source": [
        "### Lets generate user profiles using course genres and ratings\n"
      ]
    },
    {
      "cell_type": "markdown",
      "metadata": {
        "id": "9LxEVNmUA4GO"
      },
      "source": [
        "Suppose we have a very simple course genre dataset that contains only three genres: `Python`, `Database`, and `MachineLearning`.\n",
        "\n",
        "We also have two courses: `Machine Learning with Python` and `SQL Learning with Python` and their genres as follows:\n"
      ]
    },
    {
      "cell_type": "code",
      "execution_count": 4,
      "metadata": {
        "id": "SelXzBP2A4GO",
        "outputId": "a2c9d949-503a-4449-d512-9c4d281ec147",
        "colab": {
          "base_uri": "https://localhost:8080/",
          "height": 112
        }
      },
      "outputs": [
        {
          "output_type": "execute_result",
          "data": {
            "text/plain": [
              "                          Title  Python  Database  MachineLearning\n",
              "0  Machine Learning with Python       1         0                1\n",
              "1               SQL with Python       1         1                0"
            ],
            "text/html": [
              "\n",
              "  <div id=\"df-af5589c0-5786-403d-9b13-342df4e3e953\">\n",
              "    <div class=\"colab-df-container\">\n",
              "      <div>\n",
              "<style scoped>\n",
              "    .dataframe tbody tr th:only-of-type {\n",
              "        vertical-align: middle;\n",
              "    }\n",
              "\n",
              "    .dataframe tbody tr th {\n",
              "        vertical-align: top;\n",
              "    }\n",
              "\n",
              "    .dataframe thead th {\n",
              "        text-align: right;\n",
              "    }\n",
              "</style>\n",
              "<table border=\"1\" class=\"dataframe\">\n",
              "  <thead>\n",
              "    <tr style=\"text-align: right;\">\n",
              "      <th></th>\n",
              "      <th>Title</th>\n",
              "      <th>Python</th>\n",
              "      <th>Database</th>\n",
              "      <th>MachineLearning</th>\n",
              "    </tr>\n",
              "  </thead>\n",
              "  <tbody>\n",
              "    <tr>\n",
              "      <th>0</th>\n",
              "      <td>Machine Learning with Python</td>\n",
              "      <td>1</td>\n",
              "      <td>0</td>\n",
              "      <td>1</td>\n",
              "    </tr>\n",
              "    <tr>\n",
              "      <th>1</th>\n",
              "      <td>SQL with Python</td>\n",
              "      <td>1</td>\n",
              "      <td>1</td>\n",
              "      <td>0</td>\n",
              "    </tr>\n",
              "  </tbody>\n",
              "</table>\n",
              "</div>\n",
              "      <button class=\"colab-df-convert\" onclick=\"convertToInteractive('df-af5589c0-5786-403d-9b13-342df4e3e953')\"\n",
              "              title=\"Convert this dataframe to an interactive table.\"\n",
              "              style=\"display:none;\">\n",
              "        \n",
              "  <svg xmlns=\"http://www.w3.org/2000/svg\" height=\"24px\"viewBox=\"0 0 24 24\"\n",
              "       width=\"24px\">\n",
              "    <path d=\"M0 0h24v24H0V0z\" fill=\"none\"/>\n",
              "    <path d=\"M18.56 5.44l.94 2.06.94-2.06 2.06-.94-2.06-.94-.94-2.06-.94 2.06-2.06.94zm-11 1L8.5 8.5l.94-2.06 2.06-.94-2.06-.94L8.5 2.5l-.94 2.06-2.06.94zm10 10l.94 2.06.94-2.06 2.06-.94-2.06-.94-.94-2.06-.94 2.06-2.06.94z\"/><path d=\"M17.41 7.96l-1.37-1.37c-.4-.4-.92-.59-1.43-.59-.52 0-1.04.2-1.43.59L10.3 9.45l-7.72 7.72c-.78.78-.78 2.05 0 2.83L4 21.41c.39.39.9.59 1.41.59.51 0 1.02-.2 1.41-.59l7.78-7.78 2.81-2.81c.8-.78.8-2.07 0-2.86zM5.41 20L4 18.59l7.72-7.72 1.47 1.35L5.41 20z\"/>\n",
              "  </svg>\n",
              "      </button>\n",
              "      \n",
              "  <style>\n",
              "    .colab-df-container {\n",
              "      display:flex;\n",
              "      flex-wrap:wrap;\n",
              "      gap: 12px;\n",
              "    }\n",
              "\n",
              "    .colab-df-convert {\n",
              "      background-color: #E8F0FE;\n",
              "      border: none;\n",
              "      border-radius: 50%;\n",
              "      cursor: pointer;\n",
              "      display: none;\n",
              "      fill: #1967D2;\n",
              "      height: 32px;\n",
              "      padding: 0 0 0 0;\n",
              "      width: 32px;\n",
              "    }\n",
              "\n",
              "    .colab-df-convert:hover {\n",
              "      background-color: #E2EBFA;\n",
              "      box-shadow: 0px 1px 2px rgba(60, 64, 67, 0.3), 0px 1px 3px 1px rgba(60, 64, 67, 0.15);\n",
              "      fill: #174EA6;\n",
              "    }\n",
              "\n",
              "    [theme=dark] .colab-df-convert {\n",
              "      background-color: #3B4455;\n",
              "      fill: #D2E3FC;\n",
              "    }\n",
              "\n",
              "    [theme=dark] .colab-df-convert:hover {\n",
              "      background-color: #434B5C;\n",
              "      box-shadow: 0px 1px 3px 1px rgba(0, 0, 0, 0.15);\n",
              "      filter: drop-shadow(0px 1px 2px rgba(0, 0, 0, 0.3));\n",
              "      fill: #FFFFFF;\n",
              "    }\n",
              "  </style>\n",
              "\n",
              "      <script>\n",
              "        const buttonEl =\n",
              "          document.querySelector('#df-af5589c0-5786-403d-9b13-342df4e3e953 button.colab-df-convert');\n",
              "        buttonEl.style.display =\n",
              "          google.colab.kernel.accessAllowed ? 'block' : 'none';\n",
              "\n",
              "        async function convertToInteractive(key) {\n",
              "          const element = document.querySelector('#df-af5589c0-5786-403d-9b13-342df4e3e953');\n",
              "          const dataTable =\n",
              "            await google.colab.kernel.invokeFunction('convertToInteractive',\n",
              "                                                     [key], {});\n",
              "          if (!dataTable) return;\n",
              "\n",
              "          const docLinkHtml = 'Like what you see? Visit the ' +\n",
              "            '<a target=\"_blank\" href=https://colab.research.google.com/notebooks/data_table.ipynb>data table notebook</a>'\n",
              "            + ' to learn more about interactive tables.';\n",
              "          element.innerHTML = '';\n",
              "          dataTable['output_type'] = 'display_data';\n",
              "          await google.colab.output.renderOutput(dataTable, element);\n",
              "          const docLink = document.createElement('div');\n",
              "          docLink.innerHTML = docLinkHtml;\n",
              "          element.appendChild(docLink);\n",
              "        }\n",
              "      </script>\n",
              "    </div>\n",
              "  </div>\n",
              "  "
            ]
          },
          "metadata": {},
          "execution_count": 4
        }
      ],
      "source": [
        "course_genres = ['Python', 'Database', 'MachineLearning']\n",
        "courses = [['Machine Learning with Python', 1, 0, 1], [\"SQL with Python\", 1, 1, 0]]\n",
        "courses_df = pd.DataFrame(courses, columns = ['Title'] + course_genres)\n",
        "courses_df"
      ]
    },
    {
      "cell_type": "markdown",
      "metadata": {
        "id": "ixzGdiG2A4GP"
      },
      "source": [
        "As we can see from the dataset:\n",
        "\n",
        "*   Course `Machine Learning with Python` has `Python` and `MachineLearning` genres\n",
        "*   Course `SQL with Python` has `Python` and `Database` genres\n"
      ]
    },
    {
      "cell_type": "markdown",
      "metadata": {
        "id": "scsK--oNA4GP"
      },
      "source": [
        "Then let's create another simple user rating dataframe containing the ratings from two users.\n"
      ]
    },
    {
      "cell_type": "code",
      "execution_count": 5,
      "metadata": {
        "id": "Lr2cPFffA4GP",
        "outputId": "89396824-f3df-4d1d-808f-7834ab2d5438",
        "colab": {
          "base_uri": "https://localhost:8080/",
          "height": 112
        }
      },
      "outputs": [
        {
          "output_type": "execute_result",
          "data": {
            "text/plain": [
              "    User                         Title  Rating\n",
              "0  user0  Machine Learning with Python       3\n",
              "1  user1               SQL with Python       2"
            ],
            "text/html": [
              "\n",
              "  <div id=\"df-875512e0-fe14-4138-af94-8ad518b8b089\">\n",
              "    <div class=\"colab-df-container\">\n",
              "      <div>\n",
              "<style scoped>\n",
              "    .dataframe tbody tr th:only-of-type {\n",
              "        vertical-align: middle;\n",
              "    }\n",
              "\n",
              "    .dataframe tbody tr th {\n",
              "        vertical-align: top;\n",
              "    }\n",
              "\n",
              "    .dataframe thead th {\n",
              "        text-align: right;\n",
              "    }\n",
              "</style>\n",
              "<table border=\"1\" class=\"dataframe\">\n",
              "  <thead>\n",
              "    <tr style=\"text-align: right;\">\n",
              "      <th></th>\n",
              "      <th>User</th>\n",
              "      <th>Title</th>\n",
              "      <th>Rating</th>\n",
              "    </tr>\n",
              "  </thead>\n",
              "  <tbody>\n",
              "    <tr>\n",
              "      <th>0</th>\n",
              "      <td>user0</td>\n",
              "      <td>Machine Learning with Python</td>\n",
              "      <td>3</td>\n",
              "    </tr>\n",
              "    <tr>\n",
              "      <th>1</th>\n",
              "      <td>user1</td>\n",
              "      <td>SQL with Python</td>\n",
              "      <td>2</td>\n",
              "    </tr>\n",
              "  </tbody>\n",
              "</table>\n",
              "</div>\n",
              "      <button class=\"colab-df-convert\" onclick=\"convertToInteractive('df-875512e0-fe14-4138-af94-8ad518b8b089')\"\n",
              "              title=\"Convert this dataframe to an interactive table.\"\n",
              "              style=\"display:none;\">\n",
              "        \n",
              "  <svg xmlns=\"http://www.w3.org/2000/svg\" height=\"24px\"viewBox=\"0 0 24 24\"\n",
              "       width=\"24px\">\n",
              "    <path d=\"M0 0h24v24H0V0z\" fill=\"none\"/>\n",
              "    <path d=\"M18.56 5.44l.94 2.06.94-2.06 2.06-.94-2.06-.94-.94-2.06-.94 2.06-2.06.94zm-11 1L8.5 8.5l.94-2.06 2.06-.94-2.06-.94L8.5 2.5l-.94 2.06-2.06.94zm10 10l.94 2.06.94-2.06 2.06-.94-2.06-.94-.94-2.06-.94 2.06-2.06.94z\"/><path d=\"M17.41 7.96l-1.37-1.37c-.4-.4-.92-.59-1.43-.59-.52 0-1.04.2-1.43.59L10.3 9.45l-7.72 7.72c-.78.78-.78 2.05 0 2.83L4 21.41c.39.39.9.59 1.41.59.51 0 1.02-.2 1.41-.59l7.78-7.78 2.81-2.81c.8-.78.8-2.07 0-2.86zM5.41 20L4 18.59l7.72-7.72 1.47 1.35L5.41 20z\"/>\n",
              "  </svg>\n",
              "      </button>\n",
              "      \n",
              "  <style>\n",
              "    .colab-df-container {\n",
              "      display:flex;\n",
              "      flex-wrap:wrap;\n",
              "      gap: 12px;\n",
              "    }\n",
              "\n",
              "    .colab-df-convert {\n",
              "      background-color: #E8F0FE;\n",
              "      border: none;\n",
              "      border-radius: 50%;\n",
              "      cursor: pointer;\n",
              "      display: none;\n",
              "      fill: #1967D2;\n",
              "      height: 32px;\n",
              "      padding: 0 0 0 0;\n",
              "      width: 32px;\n",
              "    }\n",
              "\n",
              "    .colab-df-convert:hover {\n",
              "      background-color: #E2EBFA;\n",
              "      box-shadow: 0px 1px 2px rgba(60, 64, 67, 0.3), 0px 1px 3px 1px rgba(60, 64, 67, 0.15);\n",
              "      fill: #174EA6;\n",
              "    }\n",
              "\n",
              "    [theme=dark] .colab-df-convert {\n",
              "      background-color: #3B4455;\n",
              "      fill: #D2E3FC;\n",
              "    }\n",
              "\n",
              "    [theme=dark] .colab-df-convert:hover {\n",
              "      background-color: #434B5C;\n",
              "      box-shadow: 0px 1px 3px 1px rgba(0, 0, 0, 0.15);\n",
              "      filter: drop-shadow(0px 1px 2px rgba(0, 0, 0, 0.3));\n",
              "      fill: #FFFFFF;\n",
              "    }\n",
              "  </style>\n",
              "\n",
              "      <script>\n",
              "        const buttonEl =\n",
              "          document.querySelector('#df-875512e0-fe14-4138-af94-8ad518b8b089 button.colab-df-convert');\n",
              "        buttonEl.style.display =\n",
              "          google.colab.kernel.accessAllowed ? 'block' : 'none';\n",
              "\n",
              "        async function convertToInteractive(key) {\n",
              "          const element = document.querySelector('#df-875512e0-fe14-4138-af94-8ad518b8b089');\n",
              "          const dataTable =\n",
              "            await google.colab.kernel.invokeFunction('convertToInteractive',\n",
              "                                                     [key], {});\n",
              "          if (!dataTable) return;\n",
              "\n",
              "          const docLinkHtml = 'Like what you see? Visit the ' +\n",
              "            '<a target=\"_blank\" href=https://colab.research.google.com/notebooks/data_table.ipynb>data table notebook</a>'\n",
              "            + ' to learn more about interactive tables.';\n",
              "          element.innerHTML = '';\n",
              "          dataTable['output_type'] = 'display_data';\n",
              "          await google.colab.output.renderOutput(dataTable, element);\n",
              "          const docLink = document.createElement('div');\n",
              "          docLink.innerHTML = docLinkHtml;\n",
              "          element.appendChild(docLink);\n",
              "        }\n",
              "      </script>\n",
              "    </div>\n",
              "  </div>\n",
              "  "
            ]
          },
          "metadata": {},
          "execution_count": 5
        }
      ],
      "source": [
        "users = [['user0', 'Machine Learning with Python', 3], ['user1', 'SQL with Python', 2]]\n",
        "users_df = pd.DataFrame(users, columns = ['User', 'Title', 'Rating'])\n",
        "users_df"
      ]
    },
    {
      "cell_type": "markdown",
      "metadata": {
        "id": "DYtAdi6nA4GP"
      },
      "source": [
        "Suppose user 0 rated `Machine Learning with Python` as 3 (completed with a certificate)  and user 1 rated `SQL with Python` as 2 (just audited or not completed).\n",
        "\n",
        "Based on their course ratings and course genres. Can we generate a profile vector for each user?\n"
      ]
    },
    {
      "cell_type": "markdown",
      "metadata": {
        "id": "xAfUD4KRA4GP"
      },
      "source": [
        "Intuitively, since user 0 has completed the course `Machine Learning with Python`, they should be interested in those genres associated with the course, i.e.,Machine Learning and Python.\n",
        "\n",
        "On the other hand, user 0 has not taken the `SQL with Python` so it is likely they are not interested in the database genre.\n"
      ]
    },
    {
      "cell_type": "markdown",
      "metadata": {
        "id": "myHMNp09A4GQ"
      },
      "source": [
        "To quantify such user interests, we could multiply user 0's rating vector with a course genre matrix and get the weighted genre's vector for the courses:\n"
      ]
    },
    {
      "cell_type": "code",
      "execution_count": 6,
      "metadata": {
        "id": "974yqU3kA4GQ"
      },
      "outputs": [],
      "source": [
        "# User 0 rated course 0 as 3 and course 1 as 0/NA (unknown or not interested)\n",
        "u0 = np.array([[3, 0]])"
      ]
    },
    {
      "cell_type": "code",
      "execution_count": 7,
      "metadata": {
        "id": "qWwQV3MUA4GQ",
        "outputId": "3d96fceb-e3cb-49c6-8c44-9a49af169dec",
        "colab": {
          "base_uri": "https://localhost:8080/"
        }
      },
      "outputs": [
        {
          "output_type": "execute_result",
          "data": {
            "text/plain": [
              "array([[1, 0, 1],\n",
              "       [1, 1, 0]])"
            ]
          },
          "metadata": {},
          "execution_count": 7
        }
      ],
      "source": [
        "# The course genre's matrix\n",
        "C = courses_df[['Python', 'Database', 'MachineLearning']].to_numpy()\n",
        "C"
      ]
    },
    {
      "cell_type": "markdown",
      "metadata": {
        "id": "J8sMh7kvA4GQ"
      },
      "source": [
        "Before multiple them, let's first print their shapes:\n"
      ]
    },
    {
      "cell_type": "code",
      "execution_count": 8,
      "metadata": {
        "id": "FGxf7CvzA4GR",
        "outputId": "b1efbd89-ca2a-448e-afbf-d350510550ed",
        "colab": {
          "base_uri": "https://localhost:8080/"
        }
      },
      "outputs": [
        {
          "output_type": "stream",
          "name": "stdout",
          "text": [
            "User profile vector shape (1, 2) and course genre matrix shape (2, 3)\n"
          ]
        }
      ],
      "source": [
        "print(f\"User profile vector shape {u0.shape} and course genre matrix shape {C.shape}\")"
      ]
    },
    {
      "cell_type": "markdown",
      "metadata": {
        "id": "8a19i6oeA4GR"
      },
      "source": [
        "If we multiple a $1 x 2$ vector with a $2 x 3$ matrix, we will get a 1 x 3 vector representing the user profile vector.\n"
      ]
    },
    {
      "cell_type": "markdown",
      "metadata": {
        "id": "OEn2eb3eA4GR"
      },
      "source": [
        "$$u\\_0C = \\begin{bmatrix} 3 & 0 \\end{bmatrix} \\begin{bmatrix} 1 & 0 & 1 \\\\\\ 1 & 1 & 0 \\end{bmatrix}$$\n"
      ]
    },
    {
      "cell_type": "code",
      "execution_count": 9,
      "metadata": {
        "id": "OtF9IR6NA4GR",
        "outputId": "27783edc-3f3f-4245-dfcb-4bc0fd27303b",
        "colab": {
          "base_uri": "https://localhost:8080/"
        }
      },
      "outputs": [
        {
          "output_type": "execute_result",
          "data": {
            "text/plain": [
              "array([[3, 0, 3]])"
            ]
          },
          "metadata": {},
          "execution_count": 9
        }
      ],
      "source": [
        "u0_weights = np.matmul(u0, C)\n",
        "u0_weights"
      ]
    },
    {
      "cell_type": "code",
      "execution_count": 10,
      "metadata": {
        "id": "LQyORDAXA4GR",
        "outputId": "9f90394c-adf2-418f-a570-64ffe9885232",
        "colab": {
          "base_uri": "https://localhost:8080/"
        }
      },
      "outputs": [
        {
          "output_type": "execute_result",
          "data": {
            "text/plain": [
              "['Python', 'Database', 'MachineLearning']"
            ]
          },
          "metadata": {},
          "execution_count": 10
        }
      ],
      "source": [
        "course_genres"
      ]
    },
    {
      "cell_type": "markdown",
      "metadata": {
        "id": "c4V0jze8A4GS"
      },
      "source": [
        "Let's take a look at the result. This `u0_weights` is also called the weighted genre vector and represents the interests of the user for each genre based on the courses they have rated. As we can see from the results, user0 seems interested in `Python` and `MachineLearning` with a rating of 3.\n"
      ]
    },
    {
      "cell_type": "markdown",
      "metadata": {
        "id": "oPNVavC3A4GS"
      },
      "source": [
        "Similarly, we can calculate the weighted genre matrix for user 1:\n"
      ]
    },
    {
      "cell_type": "markdown",
      "metadata": {
        "id": "bI1e4y-yA4GS"
      },
      "source": [
        "$$u\\_1C = \\begin{bmatrix} 0 & 2 \\end{bmatrix} \\begin{bmatrix} 1 & 0 & 1 \\\\\\ 1 & 1 & 0 \\end{bmatrix}$$\n"
      ]
    },
    {
      "cell_type": "code",
      "execution_count": 11,
      "metadata": {
        "id": "J8JrECvfA4GS"
      },
      "outputs": [],
      "source": [
        "# User 1 rated course 0 as 0 (unknown or not interested) and course 1 as 2\n",
        "u1 = np.array([[0, 2]])"
      ]
    },
    {
      "cell_type": "code",
      "execution_count": 12,
      "metadata": {
        "id": "PnUP7p2KA4GT",
        "outputId": "04a1de83-9039-4b61-82de-9ae6c43897c2",
        "colab": {
          "base_uri": "https://localhost:8080/"
        }
      },
      "outputs": [
        {
          "output_type": "execute_result",
          "data": {
            "text/plain": [
              "array([[2, 2, 0]])"
            ]
          },
          "metadata": {},
          "execution_count": 12
        }
      ],
      "source": [
        "u1_weights = np.matmul(u1, C)\n",
        "u1_weights"
      ]
    },
    {
      "cell_type": "markdown",
      "metadata": {
        "id": "mmVym88jA4GT"
      },
      "source": [
        "As we can see from the `u1_weights` vector, user0 seems very interested in `Python` and `Database` with a value 2.\n"
      ]
    },
    {
      "cell_type": "markdown",
      "metadata": {
        "id": "7bCk3CGxA4GT"
      },
      "source": [
        "Let's combine the two weighted genre vectors and create a user profile dataframe:\n"
      ]
    },
    {
      "cell_type": "code",
      "execution_count": 13,
      "metadata": {
        "id": "bW21KD7AA4GT"
      },
      "outputs": [],
      "source": [
        "weights = np.concatenate((u0_weights.reshape(1, 3), u1_weights.reshape(1, 3)), axis=0)\n",
        "profiles_df = pd.DataFrame(weights, columns=['Python', 'Database', 'MachineLearning'])\n",
        "profiles_df.insert(0, 'user', ['user0', 'user1'])"
      ]
    },
    {
      "cell_type": "code",
      "execution_count": 14,
      "metadata": {
        "id": "OQrhAyZLA4GT",
        "outputId": "c12a0bc5-6a5f-4bed-c17a-9fb1b6a3c46d",
        "colab": {
          "base_uri": "https://localhost:8080/",
          "height": 112
        }
      },
      "outputs": [
        {
          "output_type": "execute_result",
          "data": {
            "text/plain": [
              "    user  Python  Database  MachineLearning\n",
              "0  user0       3         0                3\n",
              "1  user1       2         2                0"
            ],
            "text/html": [
              "\n",
              "  <div id=\"df-c171b65c-a322-4a0e-9b52-2c5d871408cc\">\n",
              "    <div class=\"colab-df-container\">\n",
              "      <div>\n",
              "<style scoped>\n",
              "    .dataframe tbody tr th:only-of-type {\n",
              "        vertical-align: middle;\n",
              "    }\n",
              "\n",
              "    .dataframe tbody tr th {\n",
              "        vertical-align: top;\n",
              "    }\n",
              "\n",
              "    .dataframe thead th {\n",
              "        text-align: right;\n",
              "    }\n",
              "</style>\n",
              "<table border=\"1\" class=\"dataframe\">\n",
              "  <thead>\n",
              "    <tr style=\"text-align: right;\">\n",
              "      <th></th>\n",
              "      <th>user</th>\n",
              "      <th>Python</th>\n",
              "      <th>Database</th>\n",
              "      <th>MachineLearning</th>\n",
              "    </tr>\n",
              "  </thead>\n",
              "  <tbody>\n",
              "    <tr>\n",
              "      <th>0</th>\n",
              "      <td>user0</td>\n",
              "      <td>3</td>\n",
              "      <td>0</td>\n",
              "      <td>3</td>\n",
              "    </tr>\n",
              "    <tr>\n",
              "      <th>1</th>\n",
              "      <td>user1</td>\n",
              "      <td>2</td>\n",
              "      <td>2</td>\n",
              "      <td>0</td>\n",
              "    </tr>\n",
              "  </tbody>\n",
              "</table>\n",
              "</div>\n",
              "      <button class=\"colab-df-convert\" onclick=\"convertToInteractive('df-c171b65c-a322-4a0e-9b52-2c5d871408cc')\"\n",
              "              title=\"Convert this dataframe to an interactive table.\"\n",
              "              style=\"display:none;\">\n",
              "        \n",
              "  <svg xmlns=\"http://www.w3.org/2000/svg\" height=\"24px\"viewBox=\"0 0 24 24\"\n",
              "       width=\"24px\">\n",
              "    <path d=\"M0 0h24v24H0V0z\" fill=\"none\"/>\n",
              "    <path d=\"M18.56 5.44l.94 2.06.94-2.06 2.06-.94-2.06-.94-.94-2.06-.94 2.06-2.06.94zm-11 1L8.5 8.5l.94-2.06 2.06-.94-2.06-.94L8.5 2.5l-.94 2.06-2.06.94zm10 10l.94 2.06.94-2.06 2.06-.94-2.06-.94-.94-2.06-.94 2.06-2.06.94z\"/><path d=\"M17.41 7.96l-1.37-1.37c-.4-.4-.92-.59-1.43-.59-.52 0-1.04.2-1.43.59L10.3 9.45l-7.72 7.72c-.78.78-.78 2.05 0 2.83L4 21.41c.39.39.9.59 1.41.59.51 0 1.02-.2 1.41-.59l7.78-7.78 2.81-2.81c.8-.78.8-2.07 0-2.86zM5.41 20L4 18.59l7.72-7.72 1.47 1.35L5.41 20z\"/>\n",
              "  </svg>\n",
              "      </button>\n",
              "      \n",
              "  <style>\n",
              "    .colab-df-container {\n",
              "      display:flex;\n",
              "      flex-wrap:wrap;\n",
              "      gap: 12px;\n",
              "    }\n",
              "\n",
              "    .colab-df-convert {\n",
              "      background-color: #E8F0FE;\n",
              "      border: none;\n",
              "      border-radius: 50%;\n",
              "      cursor: pointer;\n",
              "      display: none;\n",
              "      fill: #1967D2;\n",
              "      height: 32px;\n",
              "      padding: 0 0 0 0;\n",
              "      width: 32px;\n",
              "    }\n",
              "\n",
              "    .colab-df-convert:hover {\n",
              "      background-color: #E2EBFA;\n",
              "      box-shadow: 0px 1px 2px rgba(60, 64, 67, 0.3), 0px 1px 3px 1px rgba(60, 64, 67, 0.15);\n",
              "      fill: #174EA6;\n",
              "    }\n",
              "\n",
              "    [theme=dark] .colab-df-convert {\n",
              "      background-color: #3B4455;\n",
              "      fill: #D2E3FC;\n",
              "    }\n",
              "\n",
              "    [theme=dark] .colab-df-convert:hover {\n",
              "      background-color: #434B5C;\n",
              "      box-shadow: 0px 1px 3px 1px rgba(0, 0, 0, 0.15);\n",
              "      filter: drop-shadow(0px 1px 2px rgba(0, 0, 0, 0.3));\n",
              "      fill: #FFFFFF;\n",
              "    }\n",
              "  </style>\n",
              "\n",
              "      <script>\n",
              "        const buttonEl =\n",
              "          document.querySelector('#df-c171b65c-a322-4a0e-9b52-2c5d871408cc button.colab-df-convert');\n",
              "        buttonEl.style.display =\n",
              "          google.colab.kernel.accessAllowed ? 'block' : 'none';\n",
              "\n",
              "        async function convertToInteractive(key) {\n",
              "          const element = document.querySelector('#df-c171b65c-a322-4a0e-9b52-2c5d871408cc');\n",
              "          const dataTable =\n",
              "            await google.colab.kernel.invokeFunction('convertToInteractive',\n",
              "                                                     [key], {});\n",
              "          if (!dataTable) return;\n",
              "\n",
              "          const docLinkHtml = 'Like what you see? Visit the ' +\n",
              "            '<a target=\"_blank\" href=https://colab.research.google.com/notebooks/data_table.ipynb>data table notebook</a>'\n",
              "            + ' to learn more about interactive tables.';\n",
              "          element.innerHTML = '';\n",
              "          dataTable['output_type'] = 'display_data';\n",
              "          await google.colab.output.renderOutput(dataTable, element);\n",
              "          const docLink = document.createElement('div');\n",
              "          docLink.innerHTML = docLinkHtml;\n",
              "          element.appendChild(docLink);\n",
              "        }\n",
              "      </script>\n",
              "    </div>\n",
              "  </div>\n",
              "  "
            ]
          },
          "metadata": {},
          "execution_count": 14
        }
      ],
      "source": [
        "profiles_df"
      ]
    },
    {
      "cell_type": "markdown",
      "metadata": {
        "id": "XixzPGP-A4GU"
      },
      "source": [
        "Now this `profiles_df` clearly shows the user profiles or course interests.\n"
      ]
    },
    {
      "cell_type": "markdown",
      "metadata": {
        "id": "Hkc6usmeA4GU"
      },
      "source": [
        "### Generate recommendation scores for some new courses\n"
      ]
    },
    {
      "cell_type": "markdown",
      "metadata": {
        "id": "0xs2OvrdA4GU"
      },
      "source": [
        "With the user profiles generated, we can see that `user0` is very interested in Python and machine learning, and `user1` is very interested in Python and database.\n"
      ]
    },
    {
      "cell_type": "markdown",
      "metadata": {
        "id": "dOORZ-7AA4GV"
      },
      "source": [
        "Now, suppose we published some new courses titled as `Python 101`, `Database 101`, and `Machine Learning with R`:\n"
      ]
    },
    {
      "cell_type": "code",
      "execution_count": 15,
      "metadata": {
        "id": "e_mDrdsrA4Ga",
        "outputId": "a6bbe4b1-b686-4189-c473-c7aa80be8113",
        "colab": {
          "base_uri": "https://localhost:8080/",
          "height": 143
        }
      },
      "outputs": [
        {
          "output_type": "execute_result",
          "data": {
            "text/plain": [
              "                     Title  Python  Database  MachineLearning\n",
              "0               Python 101       1         0                0\n",
              "1             Database 101       0         1                0\n",
              "2  Machine Learning with R       0         0                1"
            ],
            "text/html": [
              "\n",
              "  <div id=\"df-ac5fc9f8-4ca3-491b-b769-6d2a54d567c6\">\n",
              "    <div class=\"colab-df-container\">\n",
              "      <div>\n",
              "<style scoped>\n",
              "    .dataframe tbody tr th:only-of-type {\n",
              "        vertical-align: middle;\n",
              "    }\n",
              "\n",
              "    .dataframe tbody tr th {\n",
              "        vertical-align: top;\n",
              "    }\n",
              "\n",
              "    .dataframe thead th {\n",
              "        text-align: right;\n",
              "    }\n",
              "</style>\n",
              "<table border=\"1\" class=\"dataframe\">\n",
              "  <thead>\n",
              "    <tr style=\"text-align: right;\">\n",
              "      <th></th>\n",
              "      <th>Title</th>\n",
              "      <th>Python</th>\n",
              "      <th>Database</th>\n",
              "      <th>MachineLearning</th>\n",
              "    </tr>\n",
              "  </thead>\n",
              "  <tbody>\n",
              "    <tr>\n",
              "      <th>0</th>\n",
              "      <td>Python 101</td>\n",
              "      <td>1</td>\n",
              "      <td>0</td>\n",
              "      <td>0</td>\n",
              "    </tr>\n",
              "    <tr>\n",
              "      <th>1</th>\n",
              "      <td>Database 101</td>\n",
              "      <td>0</td>\n",
              "      <td>1</td>\n",
              "      <td>0</td>\n",
              "    </tr>\n",
              "    <tr>\n",
              "      <th>2</th>\n",
              "      <td>Machine Learning with R</td>\n",
              "      <td>0</td>\n",
              "      <td>0</td>\n",
              "      <td>1</td>\n",
              "    </tr>\n",
              "  </tbody>\n",
              "</table>\n",
              "</div>\n",
              "      <button class=\"colab-df-convert\" onclick=\"convertToInteractive('df-ac5fc9f8-4ca3-491b-b769-6d2a54d567c6')\"\n",
              "              title=\"Convert this dataframe to an interactive table.\"\n",
              "              style=\"display:none;\">\n",
              "        \n",
              "  <svg xmlns=\"http://www.w3.org/2000/svg\" height=\"24px\"viewBox=\"0 0 24 24\"\n",
              "       width=\"24px\">\n",
              "    <path d=\"M0 0h24v24H0V0z\" fill=\"none\"/>\n",
              "    <path d=\"M18.56 5.44l.94 2.06.94-2.06 2.06-.94-2.06-.94-.94-2.06-.94 2.06-2.06.94zm-11 1L8.5 8.5l.94-2.06 2.06-.94-2.06-.94L8.5 2.5l-.94 2.06-2.06.94zm10 10l.94 2.06.94-2.06 2.06-.94-2.06-.94-.94-2.06-.94 2.06-2.06.94z\"/><path d=\"M17.41 7.96l-1.37-1.37c-.4-.4-.92-.59-1.43-.59-.52 0-1.04.2-1.43.59L10.3 9.45l-7.72 7.72c-.78.78-.78 2.05 0 2.83L4 21.41c.39.39.9.59 1.41.59.51 0 1.02-.2 1.41-.59l7.78-7.78 2.81-2.81c.8-.78.8-2.07 0-2.86zM5.41 20L4 18.59l7.72-7.72 1.47 1.35L5.41 20z\"/>\n",
              "  </svg>\n",
              "      </button>\n",
              "      \n",
              "  <style>\n",
              "    .colab-df-container {\n",
              "      display:flex;\n",
              "      flex-wrap:wrap;\n",
              "      gap: 12px;\n",
              "    }\n",
              "\n",
              "    .colab-df-convert {\n",
              "      background-color: #E8F0FE;\n",
              "      border: none;\n",
              "      border-radius: 50%;\n",
              "      cursor: pointer;\n",
              "      display: none;\n",
              "      fill: #1967D2;\n",
              "      height: 32px;\n",
              "      padding: 0 0 0 0;\n",
              "      width: 32px;\n",
              "    }\n",
              "\n",
              "    .colab-df-convert:hover {\n",
              "      background-color: #E2EBFA;\n",
              "      box-shadow: 0px 1px 2px rgba(60, 64, 67, 0.3), 0px 1px 3px 1px rgba(60, 64, 67, 0.15);\n",
              "      fill: #174EA6;\n",
              "    }\n",
              "\n",
              "    [theme=dark] .colab-df-convert {\n",
              "      background-color: #3B4455;\n",
              "      fill: #D2E3FC;\n",
              "    }\n",
              "\n",
              "    [theme=dark] .colab-df-convert:hover {\n",
              "      background-color: #434B5C;\n",
              "      box-shadow: 0px 1px 3px 1px rgba(0, 0, 0, 0.15);\n",
              "      filter: drop-shadow(0px 1px 2px rgba(0, 0, 0, 0.3));\n",
              "      fill: #FFFFFF;\n",
              "    }\n",
              "  </style>\n",
              "\n",
              "      <script>\n",
              "        const buttonEl =\n",
              "          document.querySelector('#df-ac5fc9f8-4ca3-491b-b769-6d2a54d567c6 button.colab-df-convert');\n",
              "        buttonEl.style.display =\n",
              "          google.colab.kernel.accessAllowed ? 'block' : 'none';\n",
              "\n",
              "        async function convertToInteractive(key) {\n",
              "          const element = document.querySelector('#df-ac5fc9f8-4ca3-491b-b769-6d2a54d567c6');\n",
              "          const dataTable =\n",
              "            await google.colab.kernel.invokeFunction('convertToInteractive',\n",
              "                                                     [key], {});\n",
              "          if (!dataTable) return;\n",
              "\n",
              "          const docLinkHtml = 'Like what you see? Visit the ' +\n",
              "            '<a target=\"_blank\" href=https://colab.research.google.com/notebooks/data_table.ipynb>data table notebook</a>'\n",
              "            + ' to learn more about interactive tables.';\n",
              "          element.innerHTML = '';\n",
              "          dataTable['output_type'] = 'display_data';\n",
              "          await google.colab.output.renderOutput(dataTable, element);\n",
              "          const docLink = document.createElement('div');\n",
              "          docLink.innerHTML = docLinkHtml;\n",
              "          element.appendChild(docLink);\n",
              "        }\n",
              "      </script>\n",
              "    </div>\n",
              "  </div>\n",
              "  "
            ]
          },
          "metadata": {},
          "execution_count": 15
        }
      ],
      "source": [
        "new_courses = [['Python 101', 1, 0, 0], [\"Database 101\", 0, 1, 0], [\"Machine Learning with R\", 0, 0, 1]]\n",
        "new_courses_df = pd.DataFrame(new_courses, columns = ['Title', 'Python', 'Database', 'MachineLearning'])\n",
        "new_courses_df"
      ]
    },
    {
      "cell_type": "markdown",
      "metadata": {
        "id": "YSDzpOxYA4Gd"
      },
      "source": [
        "Next, how can we calculate a recommendation score for each new course with respect to `user0` and `user1`, using user profile vectors and genre vectors?\n"
      ]
    },
    {
      "cell_type": "markdown",
      "metadata": {
        "id": "nvLW2gpuA4Gd"
      },
      "source": [
        "One simple but effective way is to apply the dot product to the user profile vector and course genre vector (as they always have the same shape). Since we have two users and three courses, we need to perform a matrix multiplication:\n"
      ]
    },
    {
      "cell_type": "code",
      "execution_count": 16,
      "metadata": {
        "id": "EMhgSlQsA4Ge",
        "outputId": "486714b3-3386-48d7-8308-c7e883793262",
        "colab": {
          "base_uri": "https://localhost:8080/",
          "height": 112
        }
      },
      "outputs": [
        {
          "output_type": "execute_result",
          "data": {
            "text/plain": [
              "    user  Python  Database  MachineLearning\n",
              "0  user0       3         0                3\n",
              "1  user1       2         2                0"
            ],
            "text/html": [
              "\n",
              "  <div id=\"df-c4abbdea-a51e-4d09-8eb5-7d4301ca1d5a\">\n",
              "    <div class=\"colab-df-container\">\n",
              "      <div>\n",
              "<style scoped>\n",
              "    .dataframe tbody tr th:only-of-type {\n",
              "        vertical-align: middle;\n",
              "    }\n",
              "\n",
              "    .dataframe tbody tr th {\n",
              "        vertical-align: top;\n",
              "    }\n",
              "\n",
              "    .dataframe thead th {\n",
              "        text-align: right;\n",
              "    }\n",
              "</style>\n",
              "<table border=\"1\" class=\"dataframe\">\n",
              "  <thead>\n",
              "    <tr style=\"text-align: right;\">\n",
              "      <th></th>\n",
              "      <th>user</th>\n",
              "      <th>Python</th>\n",
              "      <th>Database</th>\n",
              "      <th>MachineLearning</th>\n",
              "    </tr>\n",
              "  </thead>\n",
              "  <tbody>\n",
              "    <tr>\n",
              "      <th>0</th>\n",
              "      <td>user0</td>\n",
              "      <td>3</td>\n",
              "      <td>0</td>\n",
              "      <td>3</td>\n",
              "    </tr>\n",
              "    <tr>\n",
              "      <th>1</th>\n",
              "      <td>user1</td>\n",
              "      <td>2</td>\n",
              "      <td>2</td>\n",
              "      <td>0</td>\n",
              "    </tr>\n",
              "  </tbody>\n",
              "</table>\n",
              "</div>\n",
              "      <button class=\"colab-df-convert\" onclick=\"convertToInteractive('df-c4abbdea-a51e-4d09-8eb5-7d4301ca1d5a')\"\n",
              "              title=\"Convert this dataframe to an interactive table.\"\n",
              "              style=\"display:none;\">\n",
              "        \n",
              "  <svg xmlns=\"http://www.w3.org/2000/svg\" height=\"24px\"viewBox=\"0 0 24 24\"\n",
              "       width=\"24px\">\n",
              "    <path d=\"M0 0h24v24H0V0z\" fill=\"none\"/>\n",
              "    <path d=\"M18.56 5.44l.94 2.06.94-2.06 2.06-.94-2.06-.94-.94-2.06-.94 2.06-2.06.94zm-11 1L8.5 8.5l.94-2.06 2.06-.94-2.06-.94L8.5 2.5l-.94 2.06-2.06.94zm10 10l.94 2.06.94-2.06 2.06-.94-2.06-.94-.94-2.06-.94 2.06-2.06.94z\"/><path d=\"M17.41 7.96l-1.37-1.37c-.4-.4-.92-.59-1.43-.59-.52 0-1.04.2-1.43.59L10.3 9.45l-7.72 7.72c-.78.78-.78 2.05 0 2.83L4 21.41c.39.39.9.59 1.41.59.51 0 1.02-.2 1.41-.59l7.78-7.78 2.81-2.81c.8-.78.8-2.07 0-2.86zM5.41 20L4 18.59l7.72-7.72 1.47 1.35L5.41 20z\"/>\n",
              "  </svg>\n",
              "      </button>\n",
              "      \n",
              "  <style>\n",
              "    .colab-df-container {\n",
              "      display:flex;\n",
              "      flex-wrap:wrap;\n",
              "      gap: 12px;\n",
              "    }\n",
              "\n",
              "    .colab-df-convert {\n",
              "      background-color: #E8F0FE;\n",
              "      border: none;\n",
              "      border-radius: 50%;\n",
              "      cursor: pointer;\n",
              "      display: none;\n",
              "      fill: #1967D2;\n",
              "      height: 32px;\n",
              "      padding: 0 0 0 0;\n",
              "      width: 32px;\n",
              "    }\n",
              "\n",
              "    .colab-df-convert:hover {\n",
              "      background-color: #E2EBFA;\n",
              "      box-shadow: 0px 1px 2px rgba(60, 64, 67, 0.3), 0px 1px 3px 1px rgba(60, 64, 67, 0.15);\n",
              "      fill: #174EA6;\n",
              "    }\n",
              "\n",
              "    [theme=dark] .colab-df-convert {\n",
              "      background-color: #3B4455;\n",
              "      fill: #D2E3FC;\n",
              "    }\n",
              "\n",
              "    [theme=dark] .colab-df-convert:hover {\n",
              "      background-color: #434B5C;\n",
              "      box-shadow: 0px 1px 3px 1px rgba(0, 0, 0, 0.15);\n",
              "      filter: drop-shadow(0px 1px 2px rgba(0, 0, 0, 0.3));\n",
              "      fill: #FFFFFF;\n",
              "    }\n",
              "  </style>\n",
              "\n",
              "      <script>\n",
              "        const buttonEl =\n",
              "          document.querySelector('#df-c4abbdea-a51e-4d09-8eb5-7d4301ca1d5a button.colab-df-convert');\n",
              "        buttonEl.style.display =\n",
              "          google.colab.kernel.accessAllowed ? 'block' : 'none';\n",
              "\n",
              "        async function convertToInteractive(key) {\n",
              "          const element = document.querySelector('#df-c4abbdea-a51e-4d09-8eb5-7d4301ca1d5a');\n",
              "          const dataTable =\n",
              "            await google.colab.kernel.invokeFunction('convertToInteractive',\n",
              "                                                     [key], {});\n",
              "          if (!dataTable) return;\n",
              "\n",
              "          const docLinkHtml = 'Like what you see? Visit the ' +\n",
              "            '<a target=\"_blank\" href=https://colab.research.google.com/notebooks/data_table.ipynb>data table notebook</a>'\n",
              "            + ' to learn more about interactive tables.';\n",
              "          element.innerHTML = '';\n",
              "          dataTable['output_type'] = 'display_data';\n",
              "          await google.colab.output.renderOutput(dataTable, element);\n",
              "          const docLink = document.createElement('div');\n",
              "          docLink.innerHTML = docLinkHtml;\n",
              "          element.appendChild(docLink);\n",
              "        }\n",
              "      </script>\n",
              "    </div>\n",
              "  </div>\n",
              "  "
            ]
          },
          "metadata": {},
          "execution_count": 16
        }
      ],
      "source": [
        "profiles_df"
      ]
    },
    {
      "cell_type": "markdown",
      "metadata": {
        "id": "757jJrciA4Ge"
      },
      "source": [
        "Let's convert the course genre dataframe into a 2-D numpy array:\n"
      ]
    },
    {
      "cell_type": "code",
      "execution_count": 17,
      "metadata": {
        "id": "OWgrJm1xA4Ge",
        "outputId": "3b90029b-b5f8-4036-aca4-26bfd01c7965",
        "colab": {
          "base_uri": "https://localhost:8080/"
        }
      },
      "outputs": [
        {
          "output_type": "execute_result",
          "data": {
            "text/plain": [
              "array([[1, 0, 0],\n",
              "       [0, 1, 0],\n",
              "       [0, 0, 1]])"
            ]
          },
          "metadata": {},
          "execution_count": 17
        }
      ],
      "source": [
        "# Drop the title column\n",
        "new_courses_df = new_courses_df.loc[:, new_courses_df.columns != 'Title']\n",
        "course_matrix = new_courses_df.values\n",
        "course_matrix"
      ]
    },
    {
      "cell_type": "code",
      "execution_count": 18,
      "metadata": {
        "id": "MW9zXxs4A4Gf",
        "outputId": "ce047fac-997a-4f64-85b5-c4cbbfb55a01",
        "colab": {
          "base_uri": "https://localhost:8080/"
        }
      },
      "outputs": [
        {
          "output_type": "execute_result",
          "data": {
            "text/plain": [
              "(3, 3)"
            ]
          },
          "metadata": {},
          "execution_count": 18
        }
      ],
      "source": [
        "# course matrix shape\n",
        "course_matrix.shape"
      ]
    },
    {
      "cell_type": "markdown",
      "metadata": {
        "id": "W_OqzhaFA4Gf"
      },
      "source": [
        "As we can see from the above output, the course matrix is a `3 x 3` matrix and each row vector is a course genre vector.\n"
      ]
    },
    {
      "cell_type": "markdown",
      "metadata": {
        "id": "Ov9cFN_iA4Gf"
      },
      "source": [
        "Then we can convert the user profile dataframe into another 2-d numpy array:\n"
      ]
    },
    {
      "cell_type": "code",
      "execution_count": 19,
      "metadata": {
        "id": "26PWemalA4Gf",
        "outputId": "025a0a0f-ac41-408b-a2b8-3c59e3072c3f",
        "colab": {
          "base_uri": "https://localhost:8080/"
        }
      },
      "outputs": [
        {
          "output_type": "execute_result",
          "data": {
            "text/plain": [
              "array([[3, 0, 3],\n",
              "       [2, 2, 0]])"
            ]
          },
          "metadata": {},
          "execution_count": 19
        }
      ],
      "source": [
        "# Drop the user column\n",
        "profiles_df = profiles_df.loc[:, profiles_df.columns != 'user']\n",
        "profile_matrix = profiles_df.values\n",
        "profile_matrix"
      ]
    },
    {
      "cell_type": "code",
      "execution_count": 20,
      "metadata": {
        "id": "ndzhT7c6A4Gg",
        "outputId": "6eb6e78c-941f-4589-da31-6e7584c371f4",
        "colab": {
          "base_uri": "https://localhost:8080/"
        }
      },
      "outputs": [
        {
          "output_type": "execute_result",
          "data": {
            "text/plain": [
              "(2, 3)"
            ]
          },
          "metadata": {},
          "execution_count": 20
        }
      ],
      "source": [
        "profile_matrix.shape"
      ]
    },
    {
      "cell_type": "markdown",
      "metadata": {
        "id": "64H-ANPRA4Gg"
      },
      "source": [
        "The profile matrix is a 2 x 3 matrix and each row is a user profile vector:\n"
      ]
    },
    {
      "cell_type": "markdown",
      "metadata": {
        "id": "Z0iEOpczA4Gg"
      },
      "source": [
        "If we multiply the course matrix and the user profile matrix, we can get the 2 x 3 course recommendation matrix with each element `(i, j)` representing a recommendation score of course `i` to user `j`. Intuitively, if a user `j` is interested in some topics(genres) and if a course `i` also has the same topics(genres), it means the user profile vector and course genre vector share many common dimensions and a dot product is likely to have a large value.\n"
      ]
    },
    {
      "cell_type": "code",
      "execution_count": 21,
      "metadata": {
        "id": "_O7n2r5JA4Gg",
        "outputId": "f59c8b6e-0600-4f34-cb54-a6a6dfd0c868",
        "colab": {
          "base_uri": "https://localhost:8080/"
        }
      },
      "outputs": [
        {
          "output_type": "execute_result",
          "data": {
            "text/plain": [
              "array([[3, 2],\n",
              "       [0, 2],\n",
              "       [3, 0]])"
            ]
          },
          "metadata": {},
          "execution_count": 21
        }
      ],
      "source": [
        "scores = np.matmul(course_matrix, profile_matrix.T)\n",
        "scores"
      ]
    },
    {
      "cell_type": "markdown",
      "metadata": {
        "id": "IuovGTO5A4Gh"
      },
      "source": [
        "Now let's add the course titles and user ids back to make the results more clear:\n"
      ]
    },
    {
      "cell_type": "code",
      "execution_count": 22,
      "metadata": {
        "id": "EOJdHPSPA4Gh"
      },
      "outputs": [],
      "source": [
        "scores_df = pd.DataFrame(scores, columns=['User0', 'User1'])\n",
        "scores_df.index = ['Python 101', 'Database 101', 'Machine Learning with R']"
      ]
    },
    {
      "cell_type": "code",
      "execution_count": 23,
      "metadata": {
        "id": "cWD8HCuVA4Gh",
        "outputId": "d1954202-80e2-4d20-ec85-e5fc9080694c",
        "colab": {
          "base_uri": "https://localhost:8080/",
          "height": 143
        }
      },
      "outputs": [
        {
          "output_type": "execute_result",
          "data": {
            "text/plain": [
              "                         User0  User1\n",
              "Python 101                   3      2\n",
              "Database 101                 0      2\n",
              "Machine Learning with R      3      0"
            ],
            "text/html": [
              "\n",
              "  <div id=\"df-c8bc63a6-eca9-45cb-8631-ff2184cfedfc\">\n",
              "    <div class=\"colab-df-container\">\n",
              "      <div>\n",
              "<style scoped>\n",
              "    .dataframe tbody tr th:only-of-type {\n",
              "        vertical-align: middle;\n",
              "    }\n",
              "\n",
              "    .dataframe tbody tr th {\n",
              "        vertical-align: top;\n",
              "    }\n",
              "\n",
              "    .dataframe thead th {\n",
              "        text-align: right;\n",
              "    }\n",
              "</style>\n",
              "<table border=\"1\" class=\"dataframe\">\n",
              "  <thead>\n",
              "    <tr style=\"text-align: right;\">\n",
              "      <th></th>\n",
              "      <th>User0</th>\n",
              "      <th>User1</th>\n",
              "    </tr>\n",
              "  </thead>\n",
              "  <tbody>\n",
              "    <tr>\n",
              "      <th>Python 101</th>\n",
              "      <td>3</td>\n",
              "      <td>2</td>\n",
              "    </tr>\n",
              "    <tr>\n",
              "      <th>Database 101</th>\n",
              "      <td>0</td>\n",
              "      <td>2</td>\n",
              "    </tr>\n",
              "    <tr>\n",
              "      <th>Machine Learning with R</th>\n",
              "      <td>3</td>\n",
              "      <td>0</td>\n",
              "    </tr>\n",
              "  </tbody>\n",
              "</table>\n",
              "</div>\n",
              "      <button class=\"colab-df-convert\" onclick=\"convertToInteractive('df-c8bc63a6-eca9-45cb-8631-ff2184cfedfc')\"\n",
              "              title=\"Convert this dataframe to an interactive table.\"\n",
              "              style=\"display:none;\">\n",
              "        \n",
              "  <svg xmlns=\"http://www.w3.org/2000/svg\" height=\"24px\"viewBox=\"0 0 24 24\"\n",
              "       width=\"24px\">\n",
              "    <path d=\"M0 0h24v24H0V0z\" fill=\"none\"/>\n",
              "    <path d=\"M18.56 5.44l.94 2.06.94-2.06 2.06-.94-2.06-.94-.94-2.06-.94 2.06-2.06.94zm-11 1L8.5 8.5l.94-2.06 2.06-.94-2.06-.94L8.5 2.5l-.94 2.06-2.06.94zm10 10l.94 2.06.94-2.06 2.06-.94-2.06-.94-.94-2.06-.94 2.06-2.06.94z\"/><path d=\"M17.41 7.96l-1.37-1.37c-.4-.4-.92-.59-1.43-.59-.52 0-1.04.2-1.43.59L10.3 9.45l-7.72 7.72c-.78.78-.78 2.05 0 2.83L4 21.41c.39.39.9.59 1.41.59.51 0 1.02-.2 1.41-.59l7.78-7.78 2.81-2.81c.8-.78.8-2.07 0-2.86zM5.41 20L4 18.59l7.72-7.72 1.47 1.35L5.41 20z\"/>\n",
              "  </svg>\n",
              "      </button>\n",
              "      \n",
              "  <style>\n",
              "    .colab-df-container {\n",
              "      display:flex;\n",
              "      flex-wrap:wrap;\n",
              "      gap: 12px;\n",
              "    }\n",
              "\n",
              "    .colab-df-convert {\n",
              "      background-color: #E8F0FE;\n",
              "      border: none;\n",
              "      border-radius: 50%;\n",
              "      cursor: pointer;\n",
              "      display: none;\n",
              "      fill: #1967D2;\n",
              "      height: 32px;\n",
              "      padding: 0 0 0 0;\n",
              "      width: 32px;\n",
              "    }\n",
              "\n",
              "    .colab-df-convert:hover {\n",
              "      background-color: #E2EBFA;\n",
              "      box-shadow: 0px 1px 2px rgba(60, 64, 67, 0.3), 0px 1px 3px 1px rgba(60, 64, 67, 0.15);\n",
              "      fill: #174EA6;\n",
              "    }\n",
              "\n",
              "    [theme=dark] .colab-df-convert {\n",
              "      background-color: #3B4455;\n",
              "      fill: #D2E3FC;\n",
              "    }\n",
              "\n",
              "    [theme=dark] .colab-df-convert:hover {\n",
              "      background-color: #434B5C;\n",
              "      box-shadow: 0px 1px 3px 1px rgba(0, 0, 0, 0.15);\n",
              "      filter: drop-shadow(0px 1px 2px rgba(0, 0, 0, 0.3));\n",
              "      fill: #FFFFFF;\n",
              "    }\n",
              "  </style>\n",
              "\n",
              "      <script>\n",
              "        const buttonEl =\n",
              "          document.querySelector('#df-c8bc63a6-eca9-45cb-8631-ff2184cfedfc button.colab-df-convert');\n",
              "        buttonEl.style.display =\n",
              "          google.colab.kernel.accessAllowed ? 'block' : 'none';\n",
              "\n",
              "        async function convertToInteractive(key) {\n",
              "          const element = document.querySelector('#df-c8bc63a6-eca9-45cb-8631-ff2184cfedfc');\n",
              "          const dataTable =\n",
              "            await google.colab.kernel.invokeFunction('convertToInteractive',\n",
              "                                                     [key], {});\n",
              "          if (!dataTable) return;\n",
              "\n",
              "          const docLinkHtml = 'Like what you see? Visit the ' +\n",
              "            '<a target=\"_blank\" href=https://colab.research.google.com/notebooks/data_table.ipynb>data table notebook</a>'\n",
              "            + ' to learn more about interactive tables.';\n",
              "          element.innerHTML = '';\n",
              "          dataTable['output_type'] = 'display_data';\n",
              "          await google.colab.output.renderOutput(dataTable, element);\n",
              "          const docLink = document.createElement('div');\n",
              "          docLink.innerHTML = docLinkHtml;\n",
              "          element.appendChild(docLink);\n",
              "        }\n",
              "      </script>\n",
              "    </div>\n",
              "  </div>\n",
              "  "
            ]
          },
          "metadata": {},
          "execution_count": 23
        }
      ],
      "source": [
        "# recommendation score dataframe\n",
        "scores_df"
      ]
    },
    {
      "cell_type": "markdown",
      "metadata": {
        "id": "NYfPxYZiA4Gh"
      },
      "source": [
        "From the score results, we can see that:\n",
        "\n",
        "*   For user0, the recommended courses are `Python 101` and `Machine Learning with R` because user0 is very interested in Python and machine learning\n",
        "*   For user1, the recommended courses are `Python 101` and `Database 101` because user1 seems very interested in topics like Python and database\n"
      ]
    },
    {
      "cell_type": "markdown",
      "metadata": {
        "id": "BZT8cJjgA4Gi"
      },
      "source": [
        "### Generate course recommendations based on user profile and course genre vectors\n"
      ]
    },
    {
      "cell_type": "markdown",
      "metadata": {
        "id": "TTjrMQqEA4Gi"
      },
      "source": [
        "By now you have learned how to calculate recommendation scores using a user profile vector and a course genre vector.  Now, let's work on some real-world datasets to generate real personalized courses recommendations.\n"
      ]
    },
    {
      "cell_type": "markdown",
      "metadata": {
        "id": "ukgNItXZA4Gl"
      },
      "source": [
        "First, we will load a user's profile dataframe and a course genre dataframe:\n"
      ]
    },
    {
      "cell_type": "code",
      "execution_count": 24,
      "metadata": {
        "id": "L5ZAu__7A4Gl"
      },
      "outputs": [],
      "source": [
        "course_genre_url = \"https://cf-courses-data.s3.us.cloud-object-storage.appdomain.cloud/IBM-ML321EN-SkillsNetwork/labs/datasets/course_genre.csv\"\n",
        "course_genres_df = pd.read_csv(course_genre_url)"
      ]
    },
    {
      "cell_type": "code",
      "execution_count": 25,
      "metadata": {
        "id": "cdVvN5xuA4Gm",
        "outputId": "9a93fe42-7e94-4406-f42e-7061fd9777fc",
        "colab": {
          "base_uri": "https://localhost:8080/",
          "height": 530
        }
      },
      "outputs": [
        {
          "output_type": "execute_result",
          "data": {
            "text/plain": [
              "    COURSE_ID                                              TITLE  Database  \\\n",
              "0    ML0201EN  robots are coming  build iot apps with watson ...         0   \n",
              "1    ML0122EN                accelerating deep learning with gpu         0   \n",
              "2  GPXX0ZG0EN  consuming restful services using the reactive ...         0   \n",
              "3    RP0105EN         analyzing big data in r using apache spark         1   \n",
              "4  GPXX0Z2PEN  containerizing  packaging  and running a sprin...         0   \n",
              "\n",
              "   Python  CloudComputing  DataAnalysis  Containers  MachineLearning  \\\n",
              "0       0               0             0           0                0   \n",
              "1       1               0             0           0                1   \n",
              "2       0               0             0           0                0   \n",
              "3       0               0             1           0                0   \n",
              "4       0               0             0           1                0   \n",
              "\n",
              "   ComputerVision  DataScience  BigData  Chatbot  R  BackendDev  FrontendDev  \\\n",
              "0               0            0        0        0  0           1            1   \n",
              "1               0            1        0        0  0           0            0   \n",
              "2               0            0        0        0  0           1            1   \n",
              "3               0            0        1        0  1           0            0   \n",
              "4               0            0        0        0  0           1            0   \n",
              "\n",
              "   Blockchain  \n",
              "0           0  \n",
              "1           0  \n",
              "2           0  \n",
              "3           0  \n",
              "4           0  "
            ],
            "text/html": [
              "\n",
              "  <div id=\"df-7668ee76-f845-45b6-80a9-59d5793f9df5\">\n",
              "    <div class=\"colab-df-container\">\n",
              "      <div>\n",
              "<style scoped>\n",
              "    .dataframe tbody tr th:only-of-type {\n",
              "        vertical-align: middle;\n",
              "    }\n",
              "\n",
              "    .dataframe tbody tr th {\n",
              "        vertical-align: top;\n",
              "    }\n",
              "\n",
              "    .dataframe thead th {\n",
              "        text-align: right;\n",
              "    }\n",
              "</style>\n",
              "<table border=\"1\" class=\"dataframe\">\n",
              "  <thead>\n",
              "    <tr style=\"text-align: right;\">\n",
              "      <th></th>\n",
              "      <th>COURSE_ID</th>\n",
              "      <th>TITLE</th>\n",
              "      <th>Database</th>\n",
              "      <th>Python</th>\n",
              "      <th>CloudComputing</th>\n",
              "      <th>DataAnalysis</th>\n",
              "      <th>Containers</th>\n",
              "      <th>MachineLearning</th>\n",
              "      <th>ComputerVision</th>\n",
              "      <th>DataScience</th>\n",
              "      <th>BigData</th>\n",
              "      <th>Chatbot</th>\n",
              "      <th>R</th>\n",
              "      <th>BackendDev</th>\n",
              "      <th>FrontendDev</th>\n",
              "      <th>Blockchain</th>\n",
              "    </tr>\n",
              "  </thead>\n",
              "  <tbody>\n",
              "    <tr>\n",
              "      <th>0</th>\n",
              "      <td>ML0201EN</td>\n",
              "      <td>robots are coming  build iot apps with watson ...</td>\n",
              "      <td>0</td>\n",
              "      <td>0</td>\n",
              "      <td>0</td>\n",
              "      <td>0</td>\n",
              "      <td>0</td>\n",
              "      <td>0</td>\n",
              "      <td>0</td>\n",
              "      <td>0</td>\n",
              "      <td>0</td>\n",
              "      <td>0</td>\n",
              "      <td>0</td>\n",
              "      <td>1</td>\n",
              "      <td>1</td>\n",
              "      <td>0</td>\n",
              "    </tr>\n",
              "    <tr>\n",
              "      <th>1</th>\n",
              "      <td>ML0122EN</td>\n",
              "      <td>accelerating deep learning with gpu</td>\n",
              "      <td>0</td>\n",
              "      <td>1</td>\n",
              "      <td>0</td>\n",
              "      <td>0</td>\n",
              "      <td>0</td>\n",
              "      <td>1</td>\n",
              "      <td>0</td>\n",
              "      <td>1</td>\n",
              "      <td>0</td>\n",
              "      <td>0</td>\n",
              "      <td>0</td>\n",
              "      <td>0</td>\n",
              "      <td>0</td>\n",
              "      <td>0</td>\n",
              "    </tr>\n",
              "    <tr>\n",
              "      <th>2</th>\n",
              "      <td>GPXX0ZG0EN</td>\n",
              "      <td>consuming restful services using the reactive ...</td>\n",
              "      <td>0</td>\n",
              "      <td>0</td>\n",
              "      <td>0</td>\n",
              "      <td>0</td>\n",
              "      <td>0</td>\n",
              "      <td>0</td>\n",
              "      <td>0</td>\n",
              "      <td>0</td>\n",
              "      <td>0</td>\n",
              "      <td>0</td>\n",
              "      <td>0</td>\n",
              "      <td>1</td>\n",
              "      <td>1</td>\n",
              "      <td>0</td>\n",
              "    </tr>\n",
              "    <tr>\n",
              "      <th>3</th>\n",
              "      <td>RP0105EN</td>\n",
              "      <td>analyzing big data in r using apache spark</td>\n",
              "      <td>1</td>\n",
              "      <td>0</td>\n",
              "      <td>0</td>\n",
              "      <td>1</td>\n",
              "      <td>0</td>\n",
              "      <td>0</td>\n",
              "      <td>0</td>\n",
              "      <td>0</td>\n",
              "      <td>1</td>\n",
              "      <td>0</td>\n",
              "      <td>1</td>\n",
              "      <td>0</td>\n",
              "      <td>0</td>\n",
              "      <td>0</td>\n",
              "    </tr>\n",
              "    <tr>\n",
              "      <th>4</th>\n",
              "      <td>GPXX0Z2PEN</td>\n",
              "      <td>containerizing  packaging  and running a sprin...</td>\n",
              "      <td>0</td>\n",
              "      <td>0</td>\n",
              "      <td>0</td>\n",
              "      <td>0</td>\n",
              "      <td>1</td>\n",
              "      <td>0</td>\n",
              "      <td>0</td>\n",
              "      <td>0</td>\n",
              "      <td>0</td>\n",
              "      <td>0</td>\n",
              "      <td>0</td>\n",
              "      <td>1</td>\n",
              "      <td>0</td>\n",
              "      <td>0</td>\n",
              "    </tr>\n",
              "  </tbody>\n",
              "</table>\n",
              "</div>\n",
              "      <button class=\"colab-df-convert\" onclick=\"convertToInteractive('df-7668ee76-f845-45b6-80a9-59d5793f9df5')\"\n",
              "              title=\"Convert this dataframe to an interactive table.\"\n",
              "              style=\"display:none;\">\n",
              "        \n",
              "  <svg xmlns=\"http://www.w3.org/2000/svg\" height=\"24px\"viewBox=\"0 0 24 24\"\n",
              "       width=\"24px\">\n",
              "    <path d=\"M0 0h24v24H0V0z\" fill=\"none\"/>\n",
              "    <path d=\"M18.56 5.44l.94 2.06.94-2.06 2.06-.94-2.06-.94-.94-2.06-.94 2.06-2.06.94zm-11 1L8.5 8.5l.94-2.06 2.06-.94-2.06-.94L8.5 2.5l-.94 2.06-2.06.94zm10 10l.94 2.06.94-2.06 2.06-.94-2.06-.94-.94-2.06-.94 2.06-2.06.94z\"/><path d=\"M17.41 7.96l-1.37-1.37c-.4-.4-.92-.59-1.43-.59-.52 0-1.04.2-1.43.59L10.3 9.45l-7.72 7.72c-.78.78-.78 2.05 0 2.83L4 21.41c.39.39.9.59 1.41.59.51 0 1.02-.2 1.41-.59l7.78-7.78 2.81-2.81c.8-.78.8-2.07 0-2.86zM5.41 20L4 18.59l7.72-7.72 1.47 1.35L5.41 20z\"/>\n",
              "  </svg>\n",
              "      </button>\n",
              "      \n",
              "  <style>\n",
              "    .colab-df-container {\n",
              "      display:flex;\n",
              "      flex-wrap:wrap;\n",
              "      gap: 12px;\n",
              "    }\n",
              "\n",
              "    .colab-df-convert {\n",
              "      background-color: #E8F0FE;\n",
              "      border: none;\n",
              "      border-radius: 50%;\n",
              "      cursor: pointer;\n",
              "      display: none;\n",
              "      fill: #1967D2;\n",
              "      height: 32px;\n",
              "      padding: 0 0 0 0;\n",
              "      width: 32px;\n",
              "    }\n",
              "\n",
              "    .colab-df-convert:hover {\n",
              "      background-color: #E2EBFA;\n",
              "      box-shadow: 0px 1px 2px rgba(60, 64, 67, 0.3), 0px 1px 3px 1px rgba(60, 64, 67, 0.15);\n",
              "      fill: #174EA6;\n",
              "    }\n",
              "\n",
              "    [theme=dark] .colab-df-convert {\n",
              "      background-color: #3B4455;\n",
              "      fill: #D2E3FC;\n",
              "    }\n",
              "\n",
              "    [theme=dark] .colab-df-convert:hover {\n",
              "      background-color: #434B5C;\n",
              "      box-shadow: 0px 1px 3px 1px rgba(0, 0, 0, 0.15);\n",
              "      filter: drop-shadow(0px 1px 2px rgba(0, 0, 0, 0.3));\n",
              "      fill: #FFFFFF;\n",
              "    }\n",
              "  </style>\n",
              "\n",
              "      <script>\n",
              "        const buttonEl =\n",
              "          document.querySelector('#df-7668ee76-f845-45b6-80a9-59d5793f9df5 button.colab-df-convert');\n",
              "        buttonEl.style.display =\n",
              "          google.colab.kernel.accessAllowed ? 'block' : 'none';\n",
              "\n",
              "        async function convertToInteractive(key) {\n",
              "          const element = document.querySelector('#df-7668ee76-f845-45b6-80a9-59d5793f9df5');\n",
              "          const dataTable =\n",
              "            await google.colab.kernel.invokeFunction('convertToInteractive',\n",
              "                                                     [key], {});\n",
              "          if (!dataTable) return;\n",
              "\n",
              "          const docLinkHtml = 'Like what you see? Visit the ' +\n",
              "            '<a target=\"_blank\" href=https://colab.research.google.com/notebooks/data_table.ipynb>data table notebook</a>'\n",
              "            + ' to learn more about interactive tables.';\n",
              "          element.innerHTML = '';\n",
              "          dataTable['output_type'] = 'display_data';\n",
              "          await google.colab.output.renderOutput(dataTable, element);\n",
              "          const docLink = document.createElement('div');\n",
              "          docLink.innerHTML = docLinkHtml;\n",
              "          element.appendChild(docLink);\n",
              "        }\n",
              "      </script>\n",
              "    </div>\n",
              "  </div>\n",
              "  "
            ]
          },
          "metadata": {},
          "execution_count": 25
        }
      ],
      "source": [
        "course_genres_df.head()"
      ]
    },
    {
      "cell_type": "code",
      "execution_count": 26,
      "metadata": {
        "id": "tjcjFbm6A4Gm"
      },
      "outputs": [],
      "source": [
        "profile_genre_url = \"https://cf-courses-data.s3.us.cloud-object-storage.appdomain.cloud/IBM-ML321EN-SkillsNetwork/labs/datasets/user_profile.csv\"\n",
        "profile_df = pd.read_csv(profile_genre_url)"
      ]
    },
    {
      "cell_type": "code",
      "execution_count": 27,
      "metadata": {
        "id": "N4pRFEcVA4Gm",
        "outputId": "a709cd35-b98c-49d5-b3e3-a826da0c3dce",
        "colab": {
          "base_uri": "https://localhost:8080/",
          "height": 206
        }
      },
      "outputs": [
        {
          "output_type": "execute_result",
          "data": {
            "text/plain": [
              "   user  Database  Python  CloudComputing  DataAnalysis  Containers  \\\n",
              "0     2      52.0    14.0             6.0          43.0         3.0   \n",
              "1     4      40.0     2.0             4.0          28.0         0.0   \n",
              "2     5      24.0     8.0            18.0          24.0         0.0   \n",
              "3     7       2.0     0.0             0.0           2.0         0.0   \n",
              "4     8       6.0     0.0             0.0           4.0         0.0   \n",
              "\n",
              "   MachineLearning  ComputerVision  DataScience  BigData  Chatbot     R  \\\n",
              "0             33.0             0.0         29.0     41.0      2.0  18.0   \n",
              "1             14.0             0.0         20.0     24.0      0.0   6.0   \n",
              "2             30.0             0.0         22.0     14.0      2.0  14.0   \n",
              "3              0.0             0.0          0.0      2.0      0.0   0.0   \n",
              "4              0.0             0.0          0.0      6.0      0.0   2.0   \n",
              "\n",
              "   BackendDev  FrontendDev  Blockchain  \n",
              "0        34.0          9.0         6.0  \n",
              "1         6.0          0.0         2.0  \n",
              "2        26.0          4.0         6.0  \n",
              "3         0.0          0.0         0.0  \n",
              "4         0.0          0.0         0.0  "
            ],
            "text/html": [
              "\n",
              "  <div id=\"df-6fa62205-d792-41f3-bcd6-69778d359fc9\">\n",
              "    <div class=\"colab-df-container\">\n",
              "      <div>\n",
              "<style scoped>\n",
              "    .dataframe tbody tr th:only-of-type {\n",
              "        vertical-align: middle;\n",
              "    }\n",
              "\n",
              "    .dataframe tbody tr th {\n",
              "        vertical-align: top;\n",
              "    }\n",
              "\n",
              "    .dataframe thead th {\n",
              "        text-align: right;\n",
              "    }\n",
              "</style>\n",
              "<table border=\"1\" class=\"dataframe\">\n",
              "  <thead>\n",
              "    <tr style=\"text-align: right;\">\n",
              "      <th></th>\n",
              "      <th>user</th>\n",
              "      <th>Database</th>\n",
              "      <th>Python</th>\n",
              "      <th>CloudComputing</th>\n",
              "      <th>DataAnalysis</th>\n",
              "      <th>Containers</th>\n",
              "      <th>MachineLearning</th>\n",
              "      <th>ComputerVision</th>\n",
              "      <th>DataScience</th>\n",
              "      <th>BigData</th>\n",
              "      <th>Chatbot</th>\n",
              "      <th>R</th>\n",
              "      <th>BackendDev</th>\n",
              "      <th>FrontendDev</th>\n",
              "      <th>Blockchain</th>\n",
              "    </tr>\n",
              "  </thead>\n",
              "  <tbody>\n",
              "    <tr>\n",
              "      <th>0</th>\n",
              "      <td>2</td>\n",
              "      <td>52.0</td>\n",
              "      <td>14.0</td>\n",
              "      <td>6.0</td>\n",
              "      <td>43.0</td>\n",
              "      <td>3.0</td>\n",
              "      <td>33.0</td>\n",
              "      <td>0.0</td>\n",
              "      <td>29.0</td>\n",
              "      <td>41.0</td>\n",
              "      <td>2.0</td>\n",
              "      <td>18.0</td>\n",
              "      <td>34.0</td>\n",
              "      <td>9.0</td>\n",
              "      <td>6.0</td>\n",
              "    </tr>\n",
              "    <tr>\n",
              "      <th>1</th>\n",
              "      <td>4</td>\n",
              "      <td>40.0</td>\n",
              "      <td>2.0</td>\n",
              "      <td>4.0</td>\n",
              "      <td>28.0</td>\n",
              "      <td>0.0</td>\n",
              "      <td>14.0</td>\n",
              "      <td>0.0</td>\n",
              "      <td>20.0</td>\n",
              "      <td>24.0</td>\n",
              "      <td>0.0</td>\n",
              "      <td>6.0</td>\n",
              "      <td>6.0</td>\n",
              "      <td>0.0</td>\n",
              "      <td>2.0</td>\n",
              "    </tr>\n",
              "    <tr>\n",
              "      <th>2</th>\n",
              "      <td>5</td>\n",
              "      <td>24.0</td>\n",
              "      <td>8.0</td>\n",
              "      <td>18.0</td>\n",
              "      <td>24.0</td>\n",
              "      <td>0.0</td>\n",
              "      <td>30.0</td>\n",
              "      <td>0.0</td>\n",
              "      <td>22.0</td>\n",
              "      <td>14.0</td>\n",
              "      <td>2.0</td>\n",
              "      <td>14.0</td>\n",
              "      <td>26.0</td>\n",
              "      <td>4.0</td>\n",
              "      <td>6.0</td>\n",
              "    </tr>\n",
              "    <tr>\n",
              "      <th>3</th>\n",
              "      <td>7</td>\n",
              "      <td>2.0</td>\n",
              "      <td>0.0</td>\n",
              "      <td>0.0</td>\n",
              "      <td>2.0</td>\n",
              "      <td>0.0</td>\n",
              "      <td>0.0</td>\n",
              "      <td>0.0</td>\n",
              "      <td>0.0</td>\n",
              "      <td>2.0</td>\n",
              "      <td>0.0</td>\n",
              "      <td>0.0</td>\n",
              "      <td>0.0</td>\n",
              "      <td>0.0</td>\n",
              "      <td>0.0</td>\n",
              "    </tr>\n",
              "    <tr>\n",
              "      <th>4</th>\n",
              "      <td>8</td>\n",
              "      <td>6.0</td>\n",
              "      <td>0.0</td>\n",
              "      <td>0.0</td>\n",
              "      <td>4.0</td>\n",
              "      <td>0.0</td>\n",
              "      <td>0.0</td>\n",
              "      <td>0.0</td>\n",
              "      <td>0.0</td>\n",
              "      <td>6.0</td>\n",
              "      <td>0.0</td>\n",
              "      <td>2.0</td>\n",
              "      <td>0.0</td>\n",
              "      <td>0.0</td>\n",
              "      <td>0.0</td>\n",
              "    </tr>\n",
              "  </tbody>\n",
              "</table>\n",
              "</div>\n",
              "      <button class=\"colab-df-convert\" onclick=\"convertToInteractive('df-6fa62205-d792-41f3-bcd6-69778d359fc9')\"\n",
              "              title=\"Convert this dataframe to an interactive table.\"\n",
              "              style=\"display:none;\">\n",
              "        \n",
              "  <svg xmlns=\"http://www.w3.org/2000/svg\" height=\"24px\"viewBox=\"0 0 24 24\"\n",
              "       width=\"24px\">\n",
              "    <path d=\"M0 0h24v24H0V0z\" fill=\"none\"/>\n",
              "    <path d=\"M18.56 5.44l.94 2.06.94-2.06 2.06-.94-2.06-.94-.94-2.06-.94 2.06-2.06.94zm-11 1L8.5 8.5l.94-2.06 2.06-.94-2.06-.94L8.5 2.5l-.94 2.06-2.06.94zm10 10l.94 2.06.94-2.06 2.06-.94-2.06-.94-.94-2.06-.94 2.06-2.06.94z\"/><path d=\"M17.41 7.96l-1.37-1.37c-.4-.4-.92-.59-1.43-.59-.52 0-1.04.2-1.43.59L10.3 9.45l-7.72 7.72c-.78.78-.78 2.05 0 2.83L4 21.41c.39.39.9.59 1.41.59.51 0 1.02-.2 1.41-.59l7.78-7.78 2.81-2.81c.8-.78.8-2.07 0-2.86zM5.41 20L4 18.59l7.72-7.72 1.47 1.35L5.41 20z\"/>\n",
              "  </svg>\n",
              "      </button>\n",
              "      \n",
              "  <style>\n",
              "    .colab-df-container {\n",
              "      display:flex;\n",
              "      flex-wrap:wrap;\n",
              "      gap: 12px;\n",
              "    }\n",
              "\n",
              "    .colab-df-convert {\n",
              "      background-color: #E8F0FE;\n",
              "      border: none;\n",
              "      border-radius: 50%;\n",
              "      cursor: pointer;\n",
              "      display: none;\n",
              "      fill: #1967D2;\n",
              "      height: 32px;\n",
              "      padding: 0 0 0 0;\n",
              "      width: 32px;\n",
              "    }\n",
              "\n",
              "    .colab-df-convert:hover {\n",
              "      background-color: #E2EBFA;\n",
              "      box-shadow: 0px 1px 2px rgba(60, 64, 67, 0.3), 0px 1px 3px 1px rgba(60, 64, 67, 0.15);\n",
              "      fill: #174EA6;\n",
              "    }\n",
              "\n",
              "    [theme=dark] .colab-df-convert {\n",
              "      background-color: #3B4455;\n",
              "      fill: #D2E3FC;\n",
              "    }\n",
              "\n",
              "    [theme=dark] .colab-df-convert:hover {\n",
              "      background-color: #434B5C;\n",
              "      box-shadow: 0px 1px 3px 1px rgba(0, 0, 0, 0.15);\n",
              "      filter: drop-shadow(0px 1px 2px rgba(0, 0, 0, 0.3));\n",
              "      fill: #FFFFFF;\n",
              "    }\n",
              "  </style>\n",
              "\n",
              "      <script>\n",
              "        const buttonEl =\n",
              "          document.querySelector('#df-6fa62205-d792-41f3-bcd6-69778d359fc9 button.colab-df-convert');\n",
              "        buttonEl.style.display =\n",
              "          google.colab.kernel.accessAllowed ? 'block' : 'none';\n",
              "\n",
              "        async function convertToInteractive(key) {\n",
              "          const element = document.querySelector('#df-6fa62205-d792-41f3-bcd6-69778d359fc9');\n",
              "          const dataTable =\n",
              "            await google.colab.kernel.invokeFunction('convertToInteractive',\n",
              "                                                     [key], {});\n",
              "          if (!dataTable) return;\n",
              "\n",
              "          const docLinkHtml = 'Like what you see? Visit the ' +\n",
              "            '<a target=\"_blank\" href=https://colab.research.google.com/notebooks/data_table.ipynb>data table notebook</a>'\n",
              "            + ' to learn more about interactive tables.';\n",
              "          element.innerHTML = '';\n",
              "          dataTable['output_type'] = 'display_data';\n",
              "          await google.colab.output.renderOutput(dataTable, element);\n",
              "          const docLink = document.createElement('div');\n",
              "          docLink.innerHTML = docLinkHtml;\n",
              "          element.appendChild(docLink);\n",
              "        }\n",
              "      </script>\n",
              "    </div>\n",
              "  </div>\n",
              "  "
            ]
          },
          "metadata": {},
          "execution_count": 27
        }
      ],
      "source": [
        "profile_df.head()"
      ]
    },
    {
      "cell_type": "markdown",
      "metadata": {
        "id": "SYmK6MdAA4Gm"
      },
      "source": [
        "The profile dataframe contains the course interests for each user, for example, user 8 is very interested in R, data analysis, database, and big data:\n"
      ]
    },
    {
      "cell_type": "code",
      "execution_count": 28,
      "metadata": {
        "id": "IUmATY0XA4Gm",
        "outputId": "83ca4848-ec05-4d92-8c7f-94881ca2292a",
        "colab": {
          "base_uri": "https://localhost:8080/",
          "height": 81
        }
      },
      "outputs": [
        {
          "output_type": "execute_result",
          "data": {
            "text/plain": [
              "   user  Database  Python  CloudComputing  DataAnalysis  Containers  \\\n",
              "4     8       6.0     0.0             0.0           4.0         0.0   \n",
              "\n",
              "   MachineLearning  ComputerVision  DataScience  BigData  Chatbot    R  \\\n",
              "4              0.0             0.0          0.0      6.0      0.0  2.0   \n",
              "\n",
              "   BackendDev  FrontendDev  Blockchain  \n",
              "4         0.0          0.0         0.0  "
            ],
            "text/html": [
              "\n",
              "  <div id=\"df-13b51bf2-edb4-43a4-8a61-f44c55885950\">\n",
              "    <div class=\"colab-df-container\">\n",
              "      <div>\n",
              "<style scoped>\n",
              "    .dataframe tbody tr th:only-of-type {\n",
              "        vertical-align: middle;\n",
              "    }\n",
              "\n",
              "    .dataframe tbody tr th {\n",
              "        vertical-align: top;\n",
              "    }\n",
              "\n",
              "    .dataframe thead th {\n",
              "        text-align: right;\n",
              "    }\n",
              "</style>\n",
              "<table border=\"1\" class=\"dataframe\">\n",
              "  <thead>\n",
              "    <tr style=\"text-align: right;\">\n",
              "      <th></th>\n",
              "      <th>user</th>\n",
              "      <th>Database</th>\n",
              "      <th>Python</th>\n",
              "      <th>CloudComputing</th>\n",
              "      <th>DataAnalysis</th>\n",
              "      <th>Containers</th>\n",
              "      <th>MachineLearning</th>\n",
              "      <th>ComputerVision</th>\n",
              "      <th>DataScience</th>\n",
              "      <th>BigData</th>\n",
              "      <th>Chatbot</th>\n",
              "      <th>R</th>\n",
              "      <th>BackendDev</th>\n",
              "      <th>FrontendDev</th>\n",
              "      <th>Blockchain</th>\n",
              "    </tr>\n",
              "  </thead>\n",
              "  <tbody>\n",
              "    <tr>\n",
              "      <th>4</th>\n",
              "      <td>8</td>\n",
              "      <td>6.0</td>\n",
              "      <td>0.0</td>\n",
              "      <td>0.0</td>\n",
              "      <td>4.0</td>\n",
              "      <td>0.0</td>\n",
              "      <td>0.0</td>\n",
              "      <td>0.0</td>\n",
              "      <td>0.0</td>\n",
              "      <td>6.0</td>\n",
              "      <td>0.0</td>\n",
              "      <td>2.0</td>\n",
              "      <td>0.0</td>\n",
              "      <td>0.0</td>\n",
              "      <td>0.0</td>\n",
              "    </tr>\n",
              "  </tbody>\n",
              "</table>\n",
              "</div>\n",
              "      <button class=\"colab-df-convert\" onclick=\"convertToInteractive('df-13b51bf2-edb4-43a4-8a61-f44c55885950')\"\n",
              "              title=\"Convert this dataframe to an interactive table.\"\n",
              "              style=\"display:none;\">\n",
              "        \n",
              "  <svg xmlns=\"http://www.w3.org/2000/svg\" height=\"24px\"viewBox=\"0 0 24 24\"\n",
              "       width=\"24px\">\n",
              "    <path d=\"M0 0h24v24H0V0z\" fill=\"none\"/>\n",
              "    <path d=\"M18.56 5.44l.94 2.06.94-2.06 2.06-.94-2.06-.94-.94-2.06-.94 2.06-2.06.94zm-11 1L8.5 8.5l.94-2.06 2.06-.94-2.06-.94L8.5 2.5l-.94 2.06-2.06.94zm10 10l.94 2.06.94-2.06 2.06-.94-2.06-.94-.94-2.06-.94 2.06-2.06.94z\"/><path d=\"M17.41 7.96l-1.37-1.37c-.4-.4-.92-.59-1.43-.59-.52 0-1.04.2-1.43.59L10.3 9.45l-7.72 7.72c-.78.78-.78 2.05 0 2.83L4 21.41c.39.39.9.59 1.41.59.51 0 1.02-.2 1.41-.59l7.78-7.78 2.81-2.81c.8-.78.8-2.07 0-2.86zM5.41 20L4 18.59l7.72-7.72 1.47 1.35L5.41 20z\"/>\n",
              "  </svg>\n",
              "      </button>\n",
              "      \n",
              "  <style>\n",
              "    .colab-df-container {\n",
              "      display:flex;\n",
              "      flex-wrap:wrap;\n",
              "      gap: 12px;\n",
              "    }\n",
              "\n",
              "    .colab-df-convert {\n",
              "      background-color: #E8F0FE;\n",
              "      border: none;\n",
              "      border-radius: 50%;\n",
              "      cursor: pointer;\n",
              "      display: none;\n",
              "      fill: #1967D2;\n",
              "      height: 32px;\n",
              "      padding: 0 0 0 0;\n",
              "      width: 32px;\n",
              "    }\n",
              "\n",
              "    .colab-df-convert:hover {\n",
              "      background-color: #E2EBFA;\n",
              "      box-shadow: 0px 1px 2px rgba(60, 64, 67, 0.3), 0px 1px 3px 1px rgba(60, 64, 67, 0.15);\n",
              "      fill: #174EA6;\n",
              "    }\n",
              "\n",
              "    [theme=dark] .colab-df-convert {\n",
              "      background-color: #3B4455;\n",
              "      fill: #D2E3FC;\n",
              "    }\n",
              "\n",
              "    [theme=dark] .colab-df-convert:hover {\n",
              "      background-color: #434B5C;\n",
              "      box-shadow: 0px 1px 3px 1px rgba(0, 0, 0, 0.15);\n",
              "      filter: drop-shadow(0px 1px 2px rgba(0, 0, 0, 0.3));\n",
              "      fill: #FFFFFF;\n",
              "    }\n",
              "  </style>\n",
              "\n",
              "      <script>\n",
              "        const buttonEl =\n",
              "          document.querySelector('#df-13b51bf2-edb4-43a4-8a61-f44c55885950 button.colab-df-convert');\n",
              "        buttonEl.style.display =\n",
              "          google.colab.kernel.accessAllowed ? 'block' : 'none';\n",
              "\n",
              "        async function convertToInteractive(key) {\n",
              "          const element = document.querySelector('#df-13b51bf2-edb4-43a4-8a61-f44c55885950');\n",
              "          const dataTable =\n",
              "            await google.colab.kernel.invokeFunction('convertToInteractive',\n",
              "                                                     [key], {});\n",
              "          if (!dataTable) return;\n",
              "\n",
              "          const docLinkHtml = 'Like what you see? Visit the ' +\n",
              "            '<a target=\"_blank\" href=https://colab.research.google.com/notebooks/data_table.ipynb>data table notebook</a>'\n",
              "            + ' to learn more about interactive tables.';\n",
              "          element.innerHTML = '';\n",
              "          dataTable['output_type'] = 'display_data';\n",
              "          await google.colab.output.renderOutput(dataTable, element);\n",
              "          const docLink = document.createElement('div');\n",
              "          docLink.innerHTML = docLinkHtml;\n",
              "          element.appendChild(docLink);\n",
              "        }\n",
              "      </script>\n",
              "    </div>\n",
              "  </div>\n",
              "  "
            ]
          },
          "metadata": {},
          "execution_count": 28
        }
      ],
      "source": [
        "profile_df[profile_df['user'] == 8]"
      ]
    },
    {
      "cell_type": "markdown",
      "metadata": {
        "id": "RdqOaCS9A4Gn"
      },
      "source": [
        "Next, let's load a test dataset, containing test users to whom we want to make course recommendations:\n"
      ]
    },
    {
      "cell_type": "code",
      "execution_count": 29,
      "metadata": {
        "id": "hBpE8iCoA4Gn"
      },
      "outputs": [],
      "source": [
        "test_users_url = \"https://cf-courses-data.s3.us.cloud-object-storage.appdomain.cloud/IBM-ML321EN-SkillsNetwork/labs/datasets/rs_content_test.csv\"\n",
        "test_users_df = pd.read_csv(test_users_url)"
      ]
    },
    {
      "cell_type": "markdown",
      "metadata": {
        "id": "jzBYvnLUA4Gn"
      },
      "source": [
        "Let's look at how many test users we have in the dataset.\n"
      ]
    },
    {
      "cell_type": "code",
      "execution_count": 30,
      "metadata": {
        "id": "N3CsF9o-A4Gn",
        "outputId": "dff4f1b4-8c72-4c72-d4e2-4b7e61d4134e",
        "colab": {
          "base_uri": "https://localhost:8080/"
        }
      },
      "outputs": [
        {
          "output_type": "stream",
          "name": "stdout",
          "text": [
            "Total numbers of test users 1000\n"
          ]
        }
      ],
      "source": [
        "test_users = test_users_df.groupby(['user']).max().reset_index(drop=False)\n",
        "test_user_ids = test_users['user'].to_list()\n",
        "print(f\"Total numbers of test users {len(test_user_ids)}\")"
      ]
    },
    {
      "cell_type": "markdown",
      "metadata": {
        "id": "G4vpBY-9A4Gn"
      },
      "source": [
        "Then for each test user in the test dataset, you need to first find out which courses are unknown/unselected to them. For example, suppose we have a user `1078030` with profile:\n"
      ]
    },
    {
      "cell_type": "code",
      "execution_count": 31,
      "metadata": {
        "id": "WWkDacLlA4Gn",
        "outputId": "1c863e8a-e7b0-4be2-b9e6-4cc34b2778e2",
        "colab": {
          "base_uri": "https://localhost:8080/",
          "height": 125
        }
      },
      "outputs": [
        {
          "output_type": "execute_result",
          "data": {
            "text/plain": [
              "          user  Database  Python  CloudComputing  DataAnalysis  Containers  \\\n",
              "18204  1078030       0.0    12.0             0.0           9.0         0.0   \n",
              "\n",
              "       MachineLearning  ComputerVision  DataScience  BigData  Chatbot    R  \\\n",
              "18204             12.0             0.0          6.0      0.0      0.0  0.0   \n",
              "\n",
              "       BackendDev  FrontendDev  Blockchain  \n",
              "18204         0.0          0.0         0.0  "
            ],
            "text/html": [
              "\n",
              "  <div id=\"df-67c1d1bf-5b52-4deb-b63a-73a1f370e0d7\">\n",
              "    <div class=\"colab-df-container\">\n",
              "      <div>\n",
              "<style scoped>\n",
              "    .dataframe tbody tr th:only-of-type {\n",
              "        vertical-align: middle;\n",
              "    }\n",
              "\n",
              "    .dataframe tbody tr th {\n",
              "        vertical-align: top;\n",
              "    }\n",
              "\n",
              "    .dataframe thead th {\n",
              "        text-align: right;\n",
              "    }\n",
              "</style>\n",
              "<table border=\"1\" class=\"dataframe\">\n",
              "  <thead>\n",
              "    <tr style=\"text-align: right;\">\n",
              "      <th></th>\n",
              "      <th>user</th>\n",
              "      <th>Database</th>\n",
              "      <th>Python</th>\n",
              "      <th>CloudComputing</th>\n",
              "      <th>DataAnalysis</th>\n",
              "      <th>Containers</th>\n",
              "      <th>MachineLearning</th>\n",
              "      <th>ComputerVision</th>\n",
              "      <th>DataScience</th>\n",
              "      <th>BigData</th>\n",
              "      <th>Chatbot</th>\n",
              "      <th>R</th>\n",
              "      <th>BackendDev</th>\n",
              "      <th>FrontendDev</th>\n",
              "      <th>Blockchain</th>\n",
              "    </tr>\n",
              "  </thead>\n",
              "  <tbody>\n",
              "    <tr>\n",
              "      <th>18204</th>\n",
              "      <td>1078030</td>\n",
              "      <td>0.0</td>\n",
              "      <td>12.0</td>\n",
              "      <td>0.0</td>\n",
              "      <td>9.0</td>\n",
              "      <td>0.0</td>\n",
              "      <td>12.0</td>\n",
              "      <td>0.0</td>\n",
              "      <td>6.0</td>\n",
              "      <td>0.0</td>\n",
              "      <td>0.0</td>\n",
              "      <td>0.0</td>\n",
              "      <td>0.0</td>\n",
              "      <td>0.0</td>\n",
              "      <td>0.0</td>\n",
              "    </tr>\n",
              "  </tbody>\n",
              "</table>\n",
              "</div>\n",
              "      <button class=\"colab-df-convert\" onclick=\"convertToInteractive('df-67c1d1bf-5b52-4deb-b63a-73a1f370e0d7')\"\n",
              "              title=\"Convert this dataframe to an interactive table.\"\n",
              "              style=\"display:none;\">\n",
              "        \n",
              "  <svg xmlns=\"http://www.w3.org/2000/svg\" height=\"24px\"viewBox=\"0 0 24 24\"\n",
              "       width=\"24px\">\n",
              "    <path d=\"M0 0h24v24H0V0z\" fill=\"none\"/>\n",
              "    <path d=\"M18.56 5.44l.94 2.06.94-2.06 2.06-.94-2.06-.94-.94-2.06-.94 2.06-2.06.94zm-11 1L8.5 8.5l.94-2.06 2.06-.94-2.06-.94L8.5 2.5l-.94 2.06-2.06.94zm10 10l.94 2.06.94-2.06 2.06-.94-2.06-.94-.94-2.06-.94 2.06-2.06.94z\"/><path d=\"M17.41 7.96l-1.37-1.37c-.4-.4-.92-.59-1.43-.59-.52 0-1.04.2-1.43.59L10.3 9.45l-7.72 7.72c-.78.78-.78 2.05 0 2.83L4 21.41c.39.39.9.59 1.41.59.51 0 1.02-.2 1.41-.59l7.78-7.78 2.81-2.81c.8-.78.8-2.07 0-2.86zM5.41 20L4 18.59l7.72-7.72 1.47 1.35L5.41 20z\"/>\n",
              "  </svg>\n",
              "      </button>\n",
              "      \n",
              "  <style>\n",
              "    .colab-df-container {\n",
              "      display:flex;\n",
              "      flex-wrap:wrap;\n",
              "      gap: 12px;\n",
              "    }\n",
              "\n",
              "    .colab-df-convert {\n",
              "      background-color: #E8F0FE;\n",
              "      border: none;\n",
              "      border-radius: 50%;\n",
              "      cursor: pointer;\n",
              "      display: none;\n",
              "      fill: #1967D2;\n",
              "      height: 32px;\n",
              "      padding: 0 0 0 0;\n",
              "      width: 32px;\n",
              "    }\n",
              "\n",
              "    .colab-df-convert:hover {\n",
              "      background-color: #E2EBFA;\n",
              "      box-shadow: 0px 1px 2px rgba(60, 64, 67, 0.3), 0px 1px 3px 1px rgba(60, 64, 67, 0.15);\n",
              "      fill: #174EA6;\n",
              "    }\n",
              "\n",
              "    [theme=dark] .colab-df-convert {\n",
              "      background-color: #3B4455;\n",
              "      fill: #D2E3FC;\n",
              "    }\n",
              "\n",
              "    [theme=dark] .colab-df-convert:hover {\n",
              "      background-color: #434B5C;\n",
              "      box-shadow: 0px 1px 3px 1px rgba(0, 0, 0, 0.15);\n",
              "      filter: drop-shadow(0px 1px 2px rgba(0, 0, 0, 0.3));\n",
              "      fill: #FFFFFF;\n",
              "    }\n",
              "  </style>\n",
              "\n",
              "      <script>\n",
              "        const buttonEl =\n",
              "          document.querySelector('#df-67c1d1bf-5b52-4deb-b63a-73a1f370e0d7 button.colab-df-convert');\n",
              "        buttonEl.style.display =\n",
              "          google.colab.kernel.accessAllowed ? 'block' : 'none';\n",
              "\n",
              "        async function convertToInteractive(key) {\n",
              "          const element = document.querySelector('#df-67c1d1bf-5b52-4deb-b63a-73a1f370e0d7');\n",
              "          const dataTable =\n",
              "            await google.colab.kernel.invokeFunction('convertToInteractive',\n",
              "                                                     [key], {});\n",
              "          if (!dataTable) return;\n",
              "\n",
              "          const docLinkHtml = 'Like what you see? Visit the ' +\n",
              "            '<a target=\"_blank\" href=https://colab.research.google.com/notebooks/data_table.ipynb>data table notebook</a>'\n",
              "            + ' to learn more about interactive tables.';\n",
              "          element.innerHTML = '';\n",
              "          dataTable['output_type'] = 'display_data';\n",
              "          await google.colab.output.renderOutput(dataTable, element);\n",
              "          const docLink = document.createElement('div');\n",
              "          docLink.innerHTML = docLinkHtml;\n",
              "          element.appendChild(docLink);\n",
              "        }\n",
              "      </script>\n",
              "    </div>\n",
              "  </div>\n",
              "  "
            ]
          },
          "metadata": {},
          "execution_count": 31
        }
      ],
      "source": [
        "test_user_profile = profile_df[profile_df['user'] == 1078030]\n",
        "test_user_profile"
      ]
    },
    {
      "cell_type": "code",
      "execution_count": 32,
      "metadata": {
        "id": "VuTu4XRzA4Go",
        "outputId": "80d995b3-5641-410a-ba9f-2cc49eddcf97",
        "colab": {
          "base_uri": "https://localhost:8080/"
        }
      },
      "outputs": [
        {
          "output_type": "execute_result",
          "data": {
            "text/plain": [
              "array([ 0., 12.,  0.,  9.,  0., 12.,  0.,  6.,  0.,  0.,  0.,  0.,  0.,\n",
              "        0.])"
            ]
          },
          "metadata": {},
          "execution_count": 32
        }
      ],
      "source": [
        "# Now let's get the test user vector by excluding the `user` column\n",
        "test_user_vector = test_user_profile.iloc[0, 1:].values\n",
        "test_user_vector"
      ]
    },
    {
      "cell_type": "markdown",
      "metadata": {
        "id": "_3js1aMlA4Go"
      },
      "source": [
        "We can first find their enrolled courses in `test_users_df`:\n"
      ]
    },
    {
      "cell_type": "code",
      "execution_count": 33,
      "metadata": {
        "id": "xKvGACROA4Go"
      },
      "outputs": [],
      "source": [
        "enrolled_courses = test_users_df[test_users_df['user'] == 1078030]['item'].to_list()\n",
        "enrolled_courses = set(enrolled_courses)"
      ]
    },
    {
      "cell_type": "code",
      "execution_count": 36,
      "metadata": {
        "id": "3VyElAdLA4Go",
        "outputId": "d0130550-e730-4b9d-b54a-d9265e8ad20c",
        "colab": {
          "base_uri": "https://localhost:8080/"
        }
      },
      "outputs": [
        {
          "output_type": "execute_result",
          "data": {
            "text/plain": [
              "{'DA0101EN',\n",
              " 'DV0101EN',\n",
              " 'ML0101ENv3',\n",
              " 'ML0115EN',\n",
              " 'ML0120ENv2',\n",
              " 'ML0122ENv1',\n",
              " 'PY0101EN',\n",
              " 'ST0101EN'}"
            ]
          },
          "metadata": {},
          "execution_count": 36
        }
      ],
      "source": [
        "enrolled_courses"
      ]
    },
    {
      "cell_type": "markdown",
      "metadata": {
        "id": "CHhN57SlA4Go"
      },
      "source": [
        "We then print the entire course list:\n"
      ]
    },
    {
      "cell_type": "code",
      "execution_count": 37,
      "metadata": {
        "id": "4clfOgWqA4Gp",
        "outputId": "120c33fb-e4af-48c8-c743-d4d805f6357c",
        "colab": {
          "base_uri": "https://localhost:8080/"
        }
      },
      "outputs": [
        {
          "output_type": "execute_result",
          "data": {
            "text/plain": [
              "{'AI0111EN',\n",
              " 'BC0101EN',\n",
              " 'BC0201EN',\n",
              " 'BC0202EN',\n",
              " 'BD0101EN',\n",
              " 'BD0111EN',\n",
              " 'BD0115EN',\n",
              " 'BD0121EN',\n",
              " 'BD0123EN',\n",
              " 'BD0131EN',\n",
              " 'BD0133EN',\n",
              " 'BD0135EN',\n",
              " 'BD0137EN',\n",
              " 'BD0141EN',\n",
              " 'BD0143EN',\n",
              " 'BD0145EN',\n",
              " 'BD0151EN',\n",
              " 'BD0153EN',\n",
              " 'BD0211EN',\n",
              " 'BD0212EN',\n",
              " 'BD0221EN',\n",
              " 'BD0223EN',\n",
              " 'BENTEST4',\n",
              " 'CB0101EN',\n",
              " 'CB0103EN',\n",
              " 'CB0105ENv1',\n",
              " 'CB0201EN',\n",
              " 'CC0101EN',\n",
              " 'CC0103EN',\n",
              " 'CC0120EN',\n",
              " 'CC0121EN',\n",
              " 'CC0150EN',\n",
              " 'CC0201EN',\n",
              " 'CC0210EN',\n",
              " 'CC0250EN',\n",
              " 'CC0271EN',\n",
              " 'CL0101EN',\n",
              " 'CNSC02EN',\n",
              " 'CO0101EN',\n",
              " 'CO0193EN',\n",
              " 'CO0201EN',\n",
              " 'CO0301EN',\n",
              " 'CO0302EN',\n",
              " 'CO0401EN',\n",
              " 'COM001EN',\n",
              " 'CP0101EN',\n",
              " 'DA0101EN',\n",
              " 'DA0151EN',\n",
              " 'DA0201EN',\n",
              " 'DAI101EN',\n",
              " 'DB0101EN',\n",
              " 'DB0111EN',\n",
              " 'DB0113EN',\n",
              " 'DB0115EN',\n",
              " 'DB0151EN',\n",
              " 'DE0205EN',\n",
              " 'DJ0101EN',\n",
              " 'DP0101EN',\n",
              " 'DS0101EN',\n",
              " 'DS0103EN',\n",
              " 'DS0105EN',\n",
              " 'DS0107',\n",
              " 'DS0110EN',\n",
              " 'DS0132EN',\n",
              " 'DS0201EN',\n",
              " 'DS0301EN',\n",
              " 'DS0321EN',\n",
              " 'DV0101EN',\n",
              " 'DV0151EN',\n",
              " 'DW0101EN',\n",
              " 'DX0106EN',\n",
              " 'DX0107EN',\n",
              " 'DX0108EN',\n",
              " 'EE0101EN',\n",
              " 'GPXX01AVEN',\n",
              " 'GPXX01DCEN',\n",
              " 'GPXX01RYEN',\n",
              " 'GPXX03HFEN',\n",
              " 'GPXX0435EN',\n",
              " 'GPXX048OEN',\n",
              " 'GPXX04HEEN',\n",
              " 'GPXX04MXEN',\n",
              " 'GPXX04P5EN',\n",
              " 'GPXX04TNEN',\n",
              " 'GPXX04V3EN',\n",
              " 'GPXX04XJEN',\n",
              " 'GPXX05LMEN',\n",
              " 'GPXX05P1EN',\n",
              " 'GPXX05RDEN',\n",
              " 'GPXX06KEEN',\n",
              " 'GPXX06RFEN',\n",
              " 'GPXX06ZLEN',\n",
              " 'GPXX0725EN',\n",
              " 'GPXX0742EN',\n",
              " 'GPXX07REN',\n",
              " 'GPXX07UGEN',\n",
              " 'GPXX07YGEN',\n",
              " 'GPXX08WYEN',\n",
              " 'GPXX097UEN',\n",
              " 'GPXX0A1YEN',\n",
              " 'GPXX0ADEN',\n",
              " 'GPXX0BSAEN',\n",
              " 'GPXX0BUBEN',\n",
              " 'GPXX0D14EN',\n",
              " 'GPXX0E3QEN',\n",
              " 'GPXX0FFCEN',\n",
              " 'GPXX0FTCEN',\n",
              " 'GPXX0G31EN',\n",
              " 'GPXX0G3KEN',\n",
              " 'GPXX0G81EN',\n",
              " 'GPXX0HAAEN',\n",
              " 'GPXX0HC7EN',\n",
              " 'GPXX0HZ2EN',\n",
              " 'GPXX0I4FEN',\n",
              " 'GPXX0IBEN',\n",
              " 'GPXX0IHMEN',\n",
              " 'GPXX0JGFEN',\n",
              " 'GPXX0JLHEN',\n",
              " 'GPXX0JZ4EN',\n",
              " 'GPXX0KHHEN',\n",
              " 'GPXX0KV4EN',\n",
              " 'GPXX0KY1EN',\n",
              " 'GPXX0LLEEN',\n",
              " 'GPXX0M6UEN',\n",
              " 'GPXX0M7ZEN',\n",
              " 'GPXX0MIIEN',\n",
              " 'GPXX0MP0EN',\n",
              " 'GPXX0NHZEN',\n",
              " 'GPXX0PG8EN',\n",
              " 'GPXX0PICEN',\n",
              " 'GPXX0Q8AEN',\n",
              " 'GPXX0QJFEN',\n",
              " 'GPXX0QQ3EN',\n",
              " 'GPXX0QR3EN',\n",
              " 'GPXX0QS6EN',\n",
              " 'GPXX0QTEEN',\n",
              " 'GPXX0QU9EN',\n",
              " 'GPXX0RL8EN',\n",
              " 'GPXX0RQLEN',\n",
              " 'GPXX0SDXEN',\n",
              " 'GPXX0T0FEN',\n",
              " 'GPXX0T3CEN',\n",
              " 'GPXX0TY1EN',\n",
              " 'GPXX0UMSEN',\n",
              " 'GPXX0UN5EN',\n",
              " 'GPXX0W7KEN',\n",
              " 'GPXX0WRDEN',\n",
              " 'GPXX0WTIEN',\n",
              " 'GPXX0XENEN',\n",
              " 'GPXX0XFQEN',\n",
              " 'GPXX0XV3EN',\n",
              " 'GPXX0YBFEN',\n",
              " 'GPXX0YMEEN',\n",
              " 'GPXX0YXHEN',\n",
              " 'GPXX0Z2PEN',\n",
              " 'GPXX0ZG0EN',\n",
              " 'GPXX0ZMZEN',\n",
              " 'GPXX0ZYVEN',\n",
              " 'HCC104EN',\n",
              " 'HCC105EN',\n",
              " 'IT0101EN',\n",
              " 'LB0101ENv1',\n",
              " 'LB0103ENv1',\n",
              " 'LB0105ENv1',\n",
              " 'LB0107ENv1',\n",
              " 'LB0109ENv1',\n",
              " 'LB0111EN',\n",
              " 'ML0101EN',\n",
              " 'ML0101ENv3',\n",
              " 'ML0103EN',\n",
              " 'ML0109EN',\n",
              " 'ML0111EN',\n",
              " 'ML0115EN',\n",
              " 'ML0120EN',\n",
              " 'ML0120ENv2',\n",
              " 'ML0120ENv3',\n",
              " 'ML0122EN',\n",
              " 'ML0122ENv1',\n",
              " 'ML0122ENv3',\n",
              " 'ML0151EN',\n",
              " 'ML0201EN',\n",
              " 'OS0101EN',\n",
              " 'PA0101EN',\n",
              " 'PA0103EN',\n",
              " 'PA0107EN',\n",
              " 'PA0109EN',\n",
              " 'PHPM002EN',\n",
              " 'PY0101EN',\n",
              " 'QC0101EN',\n",
              " 'RAVSCTEST1',\n",
              " 'RP0101EN',\n",
              " 'RP0103',\n",
              " 'RP0103EN',\n",
              " 'RP0105EN',\n",
              " 'RP0151EN',\n",
              " 'SC0101EN',\n",
              " 'SC0103EN',\n",
              " 'SC0105EN',\n",
              " 'SECM03EN',\n",
              " 'SN0111EN',\n",
              " 'ST0101EN',\n",
              " 'ST0201EN',\n",
              " 'ST0301EN',\n",
              " 'SW0101EN',\n",
              " 'SW0201EN',\n",
              " 'TA0105',\n",
              " 'TA0105EN',\n",
              " 'TA0106EN',\n",
              " 'TMP0101EN',\n",
              " 'TMP0105EN',\n",
              " 'TMP0106',\n",
              " 'TMP107',\n",
              " 'WA0101EN',\n",
              " 'WA0103EN',\n",
              " 'excourse01',\n",
              " 'excourse02',\n",
              " 'excourse03',\n",
              " 'excourse04',\n",
              " 'excourse05',\n",
              " 'excourse06',\n",
              " 'excourse07',\n",
              " 'excourse08',\n",
              " 'excourse09',\n",
              " 'excourse10',\n",
              " 'excourse11',\n",
              " 'excourse12',\n",
              " 'excourse13',\n",
              " 'excourse14',\n",
              " 'excourse15',\n",
              " 'excourse16',\n",
              " 'excourse17',\n",
              " 'excourse18',\n",
              " 'excourse19',\n",
              " 'excourse20',\n",
              " 'excourse21',\n",
              " 'excourse22',\n",
              " 'excourse23',\n",
              " 'excourse24',\n",
              " 'excourse25',\n",
              " 'excourse26',\n",
              " 'excourse27',\n",
              " 'excourse28',\n",
              " 'excourse29',\n",
              " 'excourse30',\n",
              " 'excourse31',\n",
              " 'excourse32',\n",
              " 'excourse33',\n",
              " 'excourse34',\n",
              " 'excourse35',\n",
              " 'excourse36',\n",
              " 'excourse37',\n",
              " 'excourse38',\n",
              " 'excourse39',\n",
              " 'excourse40',\n",
              " 'excourse41',\n",
              " 'excourse42',\n",
              " 'excourse43',\n",
              " 'excourse44',\n",
              " 'excourse45',\n",
              " 'excourse46',\n",
              " 'excourse47',\n",
              " 'excourse48',\n",
              " 'excourse49',\n",
              " 'excourse50',\n",
              " 'excourse51',\n",
              " 'excourse52',\n",
              " 'excourse53',\n",
              " 'excourse54',\n",
              " 'excourse55',\n",
              " 'excourse56',\n",
              " 'excourse57',\n",
              " 'excourse58',\n",
              " 'excourse59',\n",
              " 'excourse60',\n",
              " 'excourse61',\n",
              " 'excourse62',\n",
              " 'excourse63',\n",
              " 'excourse64',\n",
              " 'excourse65',\n",
              " 'excourse66',\n",
              " 'excourse67',\n",
              " 'excourse68',\n",
              " 'excourse69',\n",
              " 'excourse70',\n",
              " 'excourse71',\n",
              " 'excourse72',\n",
              " 'excourse73',\n",
              " 'excourse74',\n",
              " 'excourse75',\n",
              " 'excourse76',\n",
              " 'excourse77',\n",
              " 'excourse78',\n",
              " 'excourse79',\n",
              " 'excourse80',\n",
              " 'excourse81',\n",
              " 'excourse82',\n",
              " 'excourse83',\n",
              " 'excourse84',\n",
              " 'excourse85',\n",
              " 'excourse86',\n",
              " 'excourse87',\n",
              " 'excourse88',\n",
              " 'excourse89',\n",
              " 'excourse90',\n",
              " 'excourse91',\n",
              " 'excourse92',\n",
              " 'excourse93'}"
            ]
          },
          "metadata": {},
          "execution_count": 37
        }
      ],
      "source": [
        "all_courses = set(course_genres_df['COURSE_ID'].values)\n",
        "all_courses "
      ]
    },
    {
      "cell_type": "markdown",
      "metadata": {
        "id": "fVetB4VtA4Gp"
      },
      "source": [
        "Then we can use all courses to subtract the enrolled courses to get a set of all unknown courses for user `1078030`, and we want to find potential interested courses hidden in the unknown course list.\n"
      ]
    },
    {
      "cell_type": "code",
      "execution_count": 39,
      "metadata": {
        "id": "GcrZ0JB9A4Gp",
        "outputId": "69e066e4-8c28-463f-b495-a3a3de08d69b",
        "colab": {
          "base_uri": "https://localhost:8080/"
        }
      },
      "outputs": [
        {
          "output_type": "execute_result",
          "data": {
            "text/plain": [
              "{'AI0111EN',\n",
              " 'BC0101EN',\n",
              " 'BC0201EN',\n",
              " 'BC0202EN',\n",
              " 'BD0101EN',\n",
              " 'BD0111EN',\n",
              " 'BD0115EN',\n",
              " 'BD0121EN',\n",
              " 'BD0123EN',\n",
              " 'BD0131EN',\n",
              " 'BD0133EN',\n",
              " 'BD0135EN',\n",
              " 'BD0137EN',\n",
              " 'BD0141EN',\n",
              " 'BD0143EN',\n",
              " 'BD0145EN',\n",
              " 'BD0151EN',\n",
              " 'BD0153EN',\n",
              " 'BD0211EN',\n",
              " 'BD0212EN',\n",
              " 'BD0221EN',\n",
              " 'BD0223EN',\n",
              " 'BENTEST4',\n",
              " 'CB0101EN',\n",
              " 'CB0103EN',\n",
              " 'CB0105ENv1',\n",
              " 'CB0201EN',\n",
              " 'CC0101EN',\n",
              " 'CC0103EN',\n",
              " 'CC0120EN',\n",
              " 'CC0121EN',\n",
              " 'CC0150EN',\n",
              " 'CC0201EN',\n",
              " 'CC0210EN',\n",
              " 'CC0250EN',\n",
              " 'CC0271EN',\n",
              " 'CL0101EN',\n",
              " 'CNSC02EN',\n",
              " 'CO0101EN',\n",
              " 'CO0193EN',\n",
              " 'CO0201EN',\n",
              " 'CO0301EN',\n",
              " 'CO0302EN',\n",
              " 'CO0401EN',\n",
              " 'COM001EN',\n",
              " 'CP0101EN',\n",
              " 'DA0151EN',\n",
              " 'DA0201EN',\n",
              " 'DAI101EN',\n",
              " 'DB0101EN',\n",
              " 'DB0111EN',\n",
              " 'DB0113EN',\n",
              " 'DB0115EN',\n",
              " 'DB0151EN',\n",
              " 'DE0205EN',\n",
              " 'DJ0101EN',\n",
              " 'DP0101EN',\n",
              " 'DS0101EN',\n",
              " 'DS0103EN',\n",
              " 'DS0105EN',\n",
              " 'DS0107',\n",
              " 'DS0110EN',\n",
              " 'DS0132EN',\n",
              " 'DS0201EN',\n",
              " 'DS0301EN',\n",
              " 'DS0321EN',\n",
              " 'DV0151EN',\n",
              " 'DW0101EN',\n",
              " 'DX0106EN',\n",
              " 'DX0107EN',\n",
              " 'DX0108EN',\n",
              " 'EE0101EN',\n",
              " 'GPXX01AVEN',\n",
              " 'GPXX01DCEN',\n",
              " 'GPXX01RYEN',\n",
              " 'GPXX03HFEN',\n",
              " 'GPXX0435EN',\n",
              " 'GPXX048OEN',\n",
              " 'GPXX04HEEN',\n",
              " 'GPXX04MXEN',\n",
              " 'GPXX04P5EN',\n",
              " 'GPXX04TNEN',\n",
              " 'GPXX04V3EN',\n",
              " 'GPXX04XJEN',\n",
              " 'GPXX05LMEN',\n",
              " 'GPXX05P1EN',\n",
              " 'GPXX05RDEN',\n",
              " 'GPXX06KEEN',\n",
              " 'GPXX06RFEN',\n",
              " 'GPXX06ZLEN',\n",
              " 'GPXX0725EN',\n",
              " 'GPXX0742EN',\n",
              " 'GPXX07REN',\n",
              " 'GPXX07UGEN',\n",
              " 'GPXX07YGEN',\n",
              " 'GPXX08WYEN',\n",
              " 'GPXX097UEN',\n",
              " 'GPXX0A1YEN',\n",
              " 'GPXX0ADEN',\n",
              " 'GPXX0BSAEN',\n",
              " 'GPXX0BUBEN',\n",
              " 'GPXX0D14EN',\n",
              " 'GPXX0E3QEN',\n",
              " 'GPXX0FFCEN',\n",
              " 'GPXX0FTCEN',\n",
              " 'GPXX0G31EN',\n",
              " 'GPXX0G3KEN',\n",
              " 'GPXX0G81EN',\n",
              " 'GPXX0HAAEN',\n",
              " 'GPXX0HC7EN',\n",
              " 'GPXX0HZ2EN',\n",
              " 'GPXX0I4FEN',\n",
              " 'GPXX0IBEN',\n",
              " 'GPXX0IHMEN',\n",
              " 'GPXX0JGFEN',\n",
              " 'GPXX0JLHEN',\n",
              " 'GPXX0JZ4EN',\n",
              " 'GPXX0KHHEN',\n",
              " 'GPXX0KV4EN',\n",
              " 'GPXX0KY1EN',\n",
              " 'GPXX0LLEEN',\n",
              " 'GPXX0M6UEN',\n",
              " 'GPXX0M7ZEN',\n",
              " 'GPXX0MIIEN',\n",
              " 'GPXX0MP0EN',\n",
              " 'GPXX0NHZEN',\n",
              " 'GPXX0PG8EN',\n",
              " 'GPXX0PICEN',\n",
              " 'GPXX0Q8AEN',\n",
              " 'GPXX0QJFEN',\n",
              " 'GPXX0QQ3EN',\n",
              " 'GPXX0QR3EN',\n",
              " 'GPXX0QS6EN',\n",
              " 'GPXX0QTEEN',\n",
              " 'GPXX0QU9EN',\n",
              " 'GPXX0RL8EN',\n",
              " 'GPXX0RQLEN',\n",
              " 'GPXX0SDXEN',\n",
              " 'GPXX0T0FEN',\n",
              " 'GPXX0T3CEN',\n",
              " 'GPXX0TY1EN',\n",
              " 'GPXX0UMSEN',\n",
              " 'GPXX0UN5EN',\n",
              " 'GPXX0W7KEN',\n",
              " 'GPXX0WRDEN',\n",
              " 'GPXX0WTIEN',\n",
              " 'GPXX0XENEN',\n",
              " 'GPXX0XFQEN',\n",
              " 'GPXX0XV3EN',\n",
              " 'GPXX0YBFEN',\n",
              " 'GPXX0YMEEN',\n",
              " 'GPXX0YXHEN',\n",
              " 'GPXX0Z2PEN',\n",
              " 'GPXX0ZG0EN',\n",
              " 'GPXX0ZMZEN',\n",
              " 'GPXX0ZYVEN',\n",
              " 'HCC104EN',\n",
              " 'HCC105EN',\n",
              " 'IT0101EN',\n",
              " 'LB0101ENv1',\n",
              " 'LB0103ENv1',\n",
              " 'LB0105ENv1',\n",
              " 'LB0107ENv1',\n",
              " 'LB0109ENv1',\n",
              " 'LB0111EN',\n",
              " 'ML0101EN',\n",
              " 'ML0103EN',\n",
              " 'ML0109EN',\n",
              " 'ML0111EN',\n",
              " 'ML0120EN',\n",
              " 'ML0120ENv3',\n",
              " 'ML0122EN',\n",
              " 'ML0122ENv3',\n",
              " 'ML0151EN',\n",
              " 'ML0201EN',\n",
              " 'OS0101EN',\n",
              " 'PA0101EN',\n",
              " 'PA0103EN',\n",
              " 'PA0107EN',\n",
              " 'PA0109EN',\n",
              " 'PHPM002EN',\n",
              " 'QC0101EN',\n",
              " 'RAVSCTEST1',\n",
              " 'RP0101EN',\n",
              " 'RP0103',\n",
              " 'RP0103EN',\n",
              " 'RP0105EN',\n",
              " 'RP0151EN',\n",
              " 'SC0101EN',\n",
              " 'SC0103EN',\n",
              " 'SC0105EN',\n",
              " 'SECM03EN',\n",
              " 'SN0111EN',\n",
              " 'ST0201EN',\n",
              " 'ST0301EN',\n",
              " 'SW0101EN',\n",
              " 'SW0201EN',\n",
              " 'TA0105',\n",
              " 'TA0105EN',\n",
              " 'TA0106EN',\n",
              " 'TMP0101EN',\n",
              " 'TMP0105EN',\n",
              " 'TMP0106',\n",
              " 'TMP107',\n",
              " 'WA0101EN',\n",
              " 'WA0103EN',\n",
              " 'excourse01',\n",
              " 'excourse02',\n",
              " 'excourse03',\n",
              " 'excourse04',\n",
              " 'excourse05',\n",
              " 'excourse06',\n",
              " 'excourse07',\n",
              " 'excourse08',\n",
              " 'excourse09',\n",
              " 'excourse10',\n",
              " 'excourse11',\n",
              " 'excourse12',\n",
              " 'excourse13',\n",
              " 'excourse14',\n",
              " 'excourse15',\n",
              " 'excourse16',\n",
              " 'excourse17',\n",
              " 'excourse18',\n",
              " 'excourse19',\n",
              " 'excourse20',\n",
              " 'excourse21',\n",
              " 'excourse22',\n",
              " 'excourse23',\n",
              " 'excourse24',\n",
              " 'excourse25',\n",
              " 'excourse26',\n",
              " 'excourse27',\n",
              " 'excourse28',\n",
              " 'excourse29',\n",
              " 'excourse30',\n",
              " 'excourse31',\n",
              " 'excourse32',\n",
              " 'excourse33',\n",
              " 'excourse34',\n",
              " 'excourse35',\n",
              " 'excourse36',\n",
              " 'excourse37',\n",
              " 'excourse38',\n",
              " 'excourse39',\n",
              " 'excourse40',\n",
              " 'excourse41',\n",
              " 'excourse42',\n",
              " 'excourse43',\n",
              " 'excourse44',\n",
              " 'excourse45',\n",
              " 'excourse46',\n",
              " 'excourse47',\n",
              " 'excourse48',\n",
              " 'excourse49',\n",
              " 'excourse50',\n",
              " 'excourse51',\n",
              " 'excourse52',\n",
              " 'excourse53',\n",
              " 'excourse54',\n",
              " 'excourse55',\n",
              " 'excourse56',\n",
              " 'excourse57',\n",
              " 'excourse58',\n",
              " 'excourse59',\n",
              " 'excourse60',\n",
              " 'excourse61',\n",
              " 'excourse62',\n",
              " 'excourse63',\n",
              " 'excourse64',\n",
              " 'excourse65',\n",
              " 'excourse66',\n",
              " 'excourse67',\n",
              " 'excourse68',\n",
              " 'excourse69',\n",
              " 'excourse70',\n",
              " 'excourse71',\n",
              " 'excourse72',\n",
              " 'excourse73',\n",
              " 'excourse74',\n",
              " 'excourse75',\n",
              " 'excourse76',\n",
              " 'excourse77',\n",
              " 'excourse78',\n",
              " 'excourse79',\n",
              " 'excourse80',\n",
              " 'excourse81',\n",
              " 'excourse82',\n",
              " 'excourse83',\n",
              " 'excourse84',\n",
              " 'excourse85',\n",
              " 'excourse86',\n",
              " 'excourse87',\n",
              " 'excourse88',\n",
              " 'excourse89',\n",
              " 'excourse90',\n",
              " 'excourse91',\n",
              " 'excourse92',\n",
              " 'excourse93'}"
            ]
          },
          "metadata": {},
          "execution_count": 39
        }
      ],
      "source": [
        "unknown_courses = all_courses.difference(enrolled_courses)\n",
        "unknown_courses"
      ]
    },
    {
      "cell_type": "markdown",
      "metadata": {
        "id": "J7Uws3yUA4Gp"
      },
      "source": [
        "We can get the genre vectors for those unknown courses as well:\n"
      ]
    },
    {
      "cell_type": "code",
      "execution_count": 40,
      "metadata": {
        "id": "HfrsD16GA4Gp",
        "outputId": "62d19ed6-11f6-4aa6-9901-b7e2e4ad79d5",
        "colab": {
          "base_uri": "https://localhost:8080/"
        }
      },
      "outputs": [
        {
          "output_type": "execute_result",
          "data": {
            "text/plain": [
              "array([[0, 0, 0, ..., 1, 1, 0],\n",
              "       [0, 1, 0, ..., 0, 0, 0],\n",
              "       [0, 0, 0, ..., 1, 1, 0],\n",
              "       ...,\n",
              "       [0, 0, 0, ..., 0, 1, 0],\n",
              "       [0, 0, 0, ..., 1, 1, 0],\n",
              "       [0, 0, 0, ..., 1, 1, 0]])"
            ]
          },
          "metadata": {},
          "execution_count": 40
        }
      ],
      "source": [
        "unknown_course_genres = course_genres_df[course_genres_df['COURSE_ID'].isin(unknown_courses)]\n",
        "# Now let's get the course matrix by excluding `COURSE_ID` and `TITLE` columns:\n",
        "course_matrix = unknown_course_genres.iloc[:, 2:].values\n",
        "course_matrix"
      ]
    },
    {
      "cell_type": "markdown",
      "metadata": {
        "id": "LFnFSPbMA4Gq"
      },
      "source": [
        "Given the user profile vector for user `1078030`  and all the unseen course genres vectors above, you can use the dot product to calculate the recommendation score for each unknown course. e.g., the recommendation score for course `accelerating deep learning with gpu` is:\n"
      ]
    },
    {
      "cell_type": "code",
      "execution_count": 41,
      "metadata": {
        "id": "oyCF3Ed5A4Gq",
        "outputId": "48dbaf8a-b772-41d0-ef49-d7eb80282ff7",
        "colab": {
          "base_uri": "https://localhost:8080/"
        }
      },
      "outputs": [
        {
          "output_type": "execute_result",
          "data": {
            "text/plain": [
              "30.0"
            ]
          },
          "metadata": {},
          "execution_count": 41
        }
      ],
      "source": [
        "score = np.dot(course_matrix[1], test_user_vector)\n",
        "score"
      ]
    },
    {
      "cell_type": "markdown",
      "metadata": {
        "id": "vkziq6LhA4Gq"
      },
      "source": [
        "Later, we will need to choose a recommendation score threshold. If the score of any course is above the threshold, we may recommend that course to the user.\n"
      ]
    },
    {
      "cell_type": "markdown",
      "metadata": {
        "id": "EaNfFeFfA4Gq"
      },
      "source": [
        "The workflow can be summarized in the following flowchart:\n"
      ]
    },
    {
      "cell_type": "markdown",
      "metadata": {
        "id": "lB8yMyqWA4Gq"
      },
      "source": [
        "![](https://cf-courses-data.s3.us.cloud-object-storage.appdomain.cloud/IBM-ML321EN-SkillsNetwork/labs/module\\_3/images/recommend_courses.png)\n"
      ]
    },
    {
      "cell_type": "markdown",
      "metadata": {
        "id": "e_coibrDA4Gr"
      },
      "source": [
        "Next, let's calculate the recommendation scores of all courses for all the 1000 test users.\n"
      ]
    },
    {
      "cell_type": "code",
      "execution_count": 42,
      "metadata": {
        "id": "sXtY_lEUA4Gr"
      },
      "outputs": [],
      "source": [
        "# We first reload all datasets again, and create an empty dictionary to store the results\n",
        "test_users_df = pd.read_csv(test_users_url)\n",
        "profile_df = pd.read_csv(profile_genre_url)\n",
        "course_genres_df = pd.read_csv(course_genre_url)\n",
        "res_dict = {}"
      ]
    },
    {
      "cell_type": "markdown",
      "metadata": {
        "id": "JVytZWtFA4Gr"
      },
      "source": [
        "We only want to recommend courses with very high scores so we may set a score threshold to filter out those courses with low scores.\n"
      ]
    },
    {
      "cell_type": "code",
      "execution_count": 43,
      "metadata": {
        "id": "ycWkBwS2A4Gr"
      },
      "outputs": [],
      "source": [
        "# Only keep the score larger than the recommendation threshold\n",
        "# The threshold can be fine-tuned to adjust the size of generated recommendations\n",
        "score_threshold = 10.0"
      ]
    },
    {
      "cell_type": "markdown",
      "metadata": {
        "id": "4UbsL0QfA4Gs"
      },
      "source": [
        "We defined a function called `generate_recommendation_scores()` to compute the recommendation scores of all the unknown courses for all test users.\n"
      ]
    },
    {
      "cell_type": "markdown",
      "metadata": {
        "id": "5ro807DTA4Gs"
      },
      "source": [
        "Complete the generate_recommendation_scores() function blow to generate recommendation score for all users. You may also implement the task with different solutions.\n"
      ]
    },
    {
      "cell_type": "code",
      "execution_count": 44,
      "metadata": {
        "id": "WdrNip26A4Gs",
        "outputId": "7d775f14-0ae2-4290-e6c8-f505550fa37d",
        "colab": {
          "base_uri": "https://localhost:8080/",
          "height": 530
        }
      },
      "outputs": [
        {
          "output_type": "execute_result",
          "data": {
            "text/plain": [
              "    COURSE_ID                                              TITLE  Database  \\\n",
              "0    ML0201EN  robots are coming  build iot apps with watson ...         0   \n",
              "1    ML0122EN                accelerating deep learning with gpu         0   \n",
              "2  GPXX0ZG0EN  consuming restful services using the reactive ...         0   \n",
              "3    RP0105EN         analyzing big data in r using apache spark         1   \n",
              "4  GPXX0Z2PEN  containerizing  packaging  and running a sprin...         0   \n",
              "\n",
              "   Python  CloudComputing  DataAnalysis  Containers  MachineLearning  \\\n",
              "0       0               0             0           0                0   \n",
              "1       1               0             0           0                1   \n",
              "2       0               0             0           0                0   \n",
              "3       0               0             1           0                0   \n",
              "4       0               0             0           1                0   \n",
              "\n",
              "   ComputerVision  DataScience  BigData  Chatbot  R  BackendDev  FrontendDev  \\\n",
              "0               0            0        0        0  0           1            1   \n",
              "1               0            1        0        0  0           0            0   \n",
              "2               0            0        0        0  0           1            1   \n",
              "3               0            0        1        0  1           0            0   \n",
              "4               0            0        0        0  0           1            0   \n",
              "\n",
              "   Blockchain  \n",
              "0           0  \n",
              "1           0  \n",
              "2           0  \n",
              "3           0  \n",
              "4           0  "
            ],
            "text/html": [
              "\n",
              "  <div id=\"df-ec764fb2-4990-4c00-9860-21a734d0a5e0\">\n",
              "    <div class=\"colab-df-container\">\n",
              "      <div>\n",
              "<style scoped>\n",
              "    .dataframe tbody tr th:only-of-type {\n",
              "        vertical-align: middle;\n",
              "    }\n",
              "\n",
              "    .dataframe tbody tr th {\n",
              "        vertical-align: top;\n",
              "    }\n",
              "\n",
              "    .dataframe thead th {\n",
              "        text-align: right;\n",
              "    }\n",
              "</style>\n",
              "<table border=\"1\" class=\"dataframe\">\n",
              "  <thead>\n",
              "    <tr style=\"text-align: right;\">\n",
              "      <th></th>\n",
              "      <th>COURSE_ID</th>\n",
              "      <th>TITLE</th>\n",
              "      <th>Database</th>\n",
              "      <th>Python</th>\n",
              "      <th>CloudComputing</th>\n",
              "      <th>DataAnalysis</th>\n",
              "      <th>Containers</th>\n",
              "      <th>MachineLearning</th>\n",
              "      <th>ComputerVision</th>\n",
              "      <th>DataScience</th>\n",
              "      <th>BigData</th>\n",
              "      <th>Chatbot</th>\n",
              "      <th>R</th>\n",
              "      <th>BackendDev</th>\n",
              "      <th>FrontendDev</th>\n",
              "      <th>Blockchain</th>\n",
              "    </tr>\n",
              "  </thead>\n",
              "  <tbody>\n",
              "    <tr>\n",
              "      <th>0</th>\n",
              "      <td>ML0201EN</td>\n",
              "      <td>robots are coming  build iot apps with watson ...</td>\n",
              "      <td>0</td>\n",
              "      <td>0</td>\n",
              "      <td>0</td>\n",
              "      <td>0</td>\n",
              "      <td>0</td>\n",
              "      <td>0</td>\n",
              "      <td>0</td>\n",
              "      <td>0</td>\n",
              "      <td>0</td>\n",
              "      <td>0</td>\n",
              "      <td>0</td>\n",
              "      <td>1</td>\n",
              "      <td>1</td>\n",
              "      <td>0</td>\n",
              "    </tr>\n",
              "    <tr>\n",
              "      <th>1</th>\n",
              "      <td>ML0122EN</td>\n",
              "      <td>accelerating deep learning with gpu</td>\n",
              "      <td>0</td>\n",
              "      <td>1</td>\n",
              "      <td>0</td>\n",
              "      <td>0</td>\n",
              "      <td>0</td>\n",
              "      <td>1</td>\n",
              "      <td>0</td>\n",
              "      <td>1</td>\n",
              "      <td>0</td>\n",
              "      <td>0</td>\n",
              "      <td>0</td>\n",
              "      <td>0</td>\n",
              "      <td>0</td>\n",
              "      <td>0</td>\n",
              "    </tr>\n",
              "    <tr>\n",
              "      <th>2</th>\n",
              "      <td>GPXX0ZG0EN</td>\n",
              "      <td>consuming restful services using the reactive ...</td>\n",
              "      <td>0</td>\n",
              "      <td>0</td>\n",
              "      <td>0</td>\n",
              "      <td>0</td>\n",
              "      <td>0</td>\n",
              "      <td>0</td>\n",
              "      <td>0</td>\n",
              "      <td>0</td>\n",
              "      <td>0</td>\n",
              "      <td>0</td>\n",
              "      <td>0</td>\n",
              "      <td>1</td>\n",
              "      <td>1</td>\n",
              "      <td>0</td>\n",
              "    </tr>\n",
              "    <tr>\n",
              "      <th>3</th>\n",
              "      <td>RP0105EN</td>\n",
              "      <td>analyzing big data in r using apache spark</td>\n",
              "      <td>1</td>\n",
              "      <td>0</td>\n",
              "      <td>0</td>\n",
              "      <td>1</td>\n",
              "      <td>0</td>\n",
              "      <td>0</td>\n",
              "      <td>0</td>\n",
              "      <td>0</td>\n",
              "      <td>1</td>\n",
              "      <td>0</td>\n",
              "      <td>1</td>\n",
              "      <td>0</td>\n",
              "      <td>0</td>\n",
              "      <td>0</td>\n",
              "    </tr>\n",
              "    <tr>\n",
              "      <th>4</th>\n",
              "      <td>GPXX0Z2PEN</td>\n",
              "      <td>containerizing  packaging  and running a sprin...</td>\n",
              "      <td>0</td>\n",
              "      <td>0</td>\n",
              "      <td>0</td>\n",
              "      <td>0</td>\n",
              "      <td>1</td>\n",
              "      <td>0</td>\n",
              "      <td>0</td>\n",
              "      <td>0</td>\n",
              "      <td>0</td>\n",
              "      <td>0</td>\n",
              "      <td>0</td>\n",
              "      <td>1</td>\n",
              "      <td>0</td>\n",
              "      <td>0</td>\n",
              "    </tr>\n",
              "  </tbody>\n",
              "</table>\n",
              "</div>\n",
              "      <button class=\"colab-df-convert\" onclick=\"convertToInteractive('df-ec764fb2-4990-4c00-9860-21a734d0a5e0')\"\n",
              "              title=\"Convert this dataframe to an interactive table.\"\n",
              "              style=\"display:none;\">\n",
              "        \n",
              "  <svg xmlns=\"http://www.w3.org/2000/svg\" height=\"24px\"viewBox=\"0 0 24 24\"\n",
              "       width=\"24px\">\n",
              "    <path d=\"M0 0h24v24H0V0z\" fill=\"none\"/>\n",
              "    <path d=\"M18.56 5.44l.94 2.06.94-2.06 2.06-.94-2.06-.94-.94-2.06-.94 2.06-2.06.94zm-11 1L8.5 8.5l.94-2.06 2.06-.94-2.06-.94L8.5 2.5l-.94 2.06-2.06.94zm10 10l.94 2.06.94-2.06 2.06-.94-2.06-.94-.94-2.06-.94 2.06-2.06.94z\"/><path d=\"M17.41 7.96l-1.37-1.37c-.4-.4-.92-.59-1.43-.59-.52 0-1.04.2-1.43.59L10.3 9.45l-7.72 7.72c-.78.78-.78 2.05 0 2.83L4 21.41c.39.39.9.59 1.41.59.51 0 1.02-.2 1.41-.59l7.78-7.78 2.81-2.81c.8-.78.8-2.07 0-2.86zM5.41 20L4 18.59l7.72-7.72 1.47 1.35L5.41 20z\"/>\n",
              "  </svg>\n",
              "      </button>\n",
              "      \n",
              "  <style>\n",
              "    .colab-df-container {\n",
              "      display:flex;\n",
              "      flex-wrap:wrap;\n",
              "      gap: 12px;\n",
              "    }\n",
              "\n",
              "    .colab-df-convert {\n",
              "      background-color: #E8F0FE;\n",
              "      border: none;\n",
              "      border-radius: 50%;\n",
              "      cursor: pointer;\n",
              "      display: none;\n",
              "      fill: #1967D2;\n",
              "      height: 32px;\n",
              "      padding: 0 0 0 0;\n",
              "      width: 32px;\n",
              "    }\n",
              "\n",
              "    .colab-df-convert:hover {\n",
              "      background-color: #E2EBFA;\n",
              "      box-shadow: 0px 1px 2px rgba(60, 64, 67, 0.3), 0px 1px 3px 1px rgba(60, 64, 67, 0.15);\n",
              "      fill: #174EA6;\n",
              "    }\n",
              "\n",
              "    [theme=dark] .colab-df-convert {\n",
              "      background-color: #3B4455;\n",
              "      fill: #D2E3FC;\n",
              "    }\n",
              "\n",
              "    [theme=dark] .colab-df-convert:hover {\n",
              "      background-color: #434B5C;\n",
              "      box-shadow: 0px 1px 3px 1px rgba(0, 0, 0, 0.15);\n",
              "      filter: drop-shadow(0px 1px 2px rgba(0, 0, 0, 0.3));\n",
              "      fill: #FFFFFF;\n",
              "    }\n",
              "  </style>\n",
              "\n",
              "      <script>\n",
              "        const buttonEl =\n",
              "          document.querySelector('#df-ec764fb2-4990-4c00-9860-21a734d0a5e0 button.colab-df-convert');\n",
              "        buttonEl.style.display =\n",
              "          google.colab.kernel.accessAllowed ? 'block' : 'none';\n",
              "\n",
              "        async function convertToInteractive(key) {\n",
              "          const element = document.querySelector('#df-ec764fb2-4990-4c00-9860-21a734d0a5e0');\n",
              "          const dataTable =\n",
              "            await google.colab.kernel.invokeFunction('convertToInteractive',\n",
              "                                                     [key], {});\n",
              "          if (!dataTable) return;\n",
              "\n",
              "          const docLinkHtml = 'Like what you see? Visit the ' +\n",
              "            '<a target=\"_blank\" href=https://colab.research.google.com/notebooks/data_table.ipynb>data table notebook</a>'\n",
              "            + ' to learn more about interactive tables.';\n",
              "          element.innerHTML = '';\n",
              "          dataTable['output_type'] = 'display_data';\n",
              "          await google.colab.output.renderOutput(dataTable, element);\n",
              "          const docLink = document.createElement('div');\n",
              "          docLink.innerHTML = docLinkHtml;\n",
              "          element.appendChild(docLink);\n",
              "        }\n",
              "      </script>\n",
              "    </div>\n",
              "  </div>\n",
              "  "
            ]
          },
          "metadata": {},
          "execution_count": 44
        }
      ],
      "source": [
        "course_genres_df.head()"
      ]
    },
    {
      "cell_type": "code",
      "execution_count": 45,
      "metadata": {
        "id": "Zu5MSQk-A4Gt"
      },
      "outputs": [],
      "source": [
        "def generate_recommendation_scores():\n",
        "    users = []\n",
        "    courses = []\n",
        "    scores = []\n",
        "    for user_id in test_user_ids:\n",
        "        test_user_profile = profile_df[profile_df['user'] == user_id]\n",
        "        # get user vector for the current user id\n",
        "        test_user_vector = test_user_profile.iloc[0, 1:].values\n",
        "        \n",
        "        # get the unknown course ids for the current user id\n",
        "        enrolled_courses = test_users_df[test_users_df['user'] == user_id]['item'].to_list()\n",
        "        unknown_courses = all_courses.difference(enrolled_courses)\n",
        "        unknown_course_df = course_genres_df[course_genres_df['COURSE_ID'].isin(unknown_courses)]\n",
        "        unknown_course_ids = unknown_course_df['COURSE_ID'].values\n",
        "        # user np.dot() to get the recommendation scores for each course\n",
        "        rows = set(course_genres_df['COURSE_ID']).intersection(set(unknown_course_ids))\n",
        "        idx = [(x in rows) for x in course_genres_df['COURSE_ID'].values]\n",
        "        recommendation_scores = np.dot(course_genres_df[idx].iloc[:,2:].values, test_user_vector)\n",
        "\n",
        "        # Append the results into the users, courses, and scores list\n",
        "        for i in range(0, len(unknown_course_ids)):\n",
        "            score = recommendation_scores[i]\n",
        "            # Only keep the courses with high recommendation score\n",
        "            if score >= score_threshold:\n",
        "                users.append(user_id)\n",
        "                courses.append(unknown_course_ids[i])\n",
        "                scores.append(recommendation_scores[i])\n",
        "                \n",
        "    return users, courses, scores"
      ]
    },
    {
      "cell_type": "code",
      "execution_count": 46,
      "metadata": {
        "id": "b-y-GSsLA4Gu",
        "outputId": "447e4070-a5a8-4640-89b6-bd6f4d626b36",
        "colab": {
          "base_uri": "https://localhost:8080/",
          "height": 423
        }
      },
      "outputs": [
        {
          "output_type": "execute_result",
          "data": {
            "text/plain": [
              "          USER   COURSE_ID  SCORE\n",
              "0        37465    RP0105EN   27.0\n",
              "1        37465  GPXX06RFEN   12.0\n",
              "2        37465    CC0271EN   15.0\n",
              "3        37465    BD0145EN   24.0\n",
              "4        37465    DE0205EN   15.0\n",
              "...        ...         ...    ...\n",
              "53406  2087663  excourse88   15.0\n",
              "53407  2087663  excourse89   15.0\n",
              "53408  2087663  excourse90   15.0\n",
              "53409  2087663  excourse92   15.0\n",
              "53410  2087663  excourse93   15.0\n",
              "\n",
              "[53411 rows x 3 columns]"
            ],
            "text/html": [
              "\n",
              "  <div id=\"df-4b20bd09-1361-4571-96fd-38e102397bb3\">\n",
              "    <div class=\"colab-df-container\">\n",
              "      <div>\n",
              "<style scoped>\n",
              "    .dataframe tbody tr th:only-of-type {\n",
              "        vertical-align: middle;\n",
              "    }\n",
              "\n",
              "    .dataframe tbody tr th {\n",
              "        vertical-align: top;\n",
              "    }\n",
              "\n",
              "    .dataframe thead th {\n",
              "        text-align: right;\n",
              "    }\n",
              "</style>\n",
              "<table border=\"1\" class=\"dataframe\">\n",
              "  <thead>\n",
              "    <tr style=\"text-align: right;\">\n",
              "      <th></th>\n",
              "      <th>USER</th>\n",
              "      <th>COURSE_ID</th>\n",
              "      <th>SCORE</th>\n",
              "    </tr>\n",
              "  </thead>\n",
              "  <tbody>\n",
              "    <tr>\n",
              "      <th>0</th>\n",
              "      <td>37465</td>\n",
              "      <td>RP0105EN</td>\n",
              "      <td>27.0</td>\n",
              "    </tr>\n",
              "    <tr>\n",
              "      <th>1</th>\n",
              "      <td>37465</td>\n",
              "      <td>GPXX06RFEN</td>\n",
              "      <td>12.0</td>\n",
              "    </tr>\n",
              "    <tr>\n",
              "      <th>2</th>\n",
              "      <td>37465</td>\n",
              "      <td>CC0271EN</td>\n",
              "      <td>15.0</td>\n",
              "    </tr>\n",
              "    <tr>\n",
              "      <th>3</th>\n",
              "      <td>37465</td>\n",
              "      <td>BD0145EN</td>\n",
              "      <td>24.0</td>\n",
              "    </tr>\n",
              "    <tr>\n",
              "      <th>4</th>\n",
              "      <td>37465</td>\n",
              "      <td>DE0205EN</td>\n",
              "      <td>15.0</td>\n",
              "    </tr>\n",
              "    <tr>\n",
              "      <th>...</th>\n",
              "      <td>...</td>\n",
              "      <td>...</td>\n",
              "      <td>...</td>\n",
              "    </tr>\n",
              "    <tr>\n",
              "      <th>53406</th>\n",
              "      <td>2087663</td>\n",
              "      <td>excourse88</td>\n",
              "      <td>15.0</td>\n",
              "    </tr>\n",
              "    <tr>\n",
              "      <th>53407</th>\n",
              "      <td>2087663</td>\n",
              "      <td>excourse89</td>\n",
              "      <td>15.0</td>\n",
              "    </tr>\n",
              "    <tr>\n",
              "      <th>53408</th>\n",
              "      <td>2087663</td>\n",
              "      <td>excourse90</td>\n",
              "      <td>15.0</td>\n",
              "    </tr>\n",
              "    <tr>\n",
              "      <th>53409</th>\n",
              "      <td>2087663</td>\n",
              "      <td>excourse92</td>\n",
              "      <td>15.0</td>\n",
              "    </tr>\n",
              "    <tr>\n",
              "      <th>53410</th>\n",
              "      <td>2087663</td>\n",
              "      <td>excourse93</td>\n",
              "      <td>15.0</td>\n",
              "    </tr>\n",
              "  </tbody>\n",
              "</table>\n",
              "<p>53411 rows × 3 columns</p>\n",
              "</div>\n",
              "      <button class=\"colab-df-convert\" onclick=\"convertToInteractive('df-4b20bd09-1361-4571-96fd-38e102397bb3')\"\n",
              "              title=\"Convert this dataframe to an interactive table.\"\n",
              "              style=\"display:none;\">\n",
              "        \n",
              "  <svg xmlns=\"http://www.w3.org/2000/svg\" height=\"24px\"viewBox=\"0 0 24 24\"\n",
              "       width=\"24px\">\n",
              "    <path d=\"M0 0h24v24H0V0z\" fill=\"none\"/>\n",
              "    <path d=\"M18.56 5.44l.94 2.06.94-2.06 2.06-.94-2.06-.94-.94-2.06-.94 2.06-2.06.94zm-11 1L8.5 8.5l.94-2.06 2.06-.94-2.06-.94L8.5 2.5l-.94 2.06-2.06.94zm10 10l.94 2.06.94-2.06 2.06-.94-2.06-.94-.94-2.06-.94 2.06-2.06.94z\"/><path d=\"M17.41 7.96l-1.37-1.37c-.4-.4-.92-.59-1.43-.59-.52 0-1.04.2-1.43.59L10.3 9.45l-7.72 7.72c-.78.78-.78 2.05 0 2.83L4 21.41c.39.39.9.59 1.41.59.51 0 1.02-.2 1.41-.59l7.78-7.78 2.81-2.81c.8-.78.8-2.07 0-2.86zM5.41 20L4 18.59l7.72-7.72 1.47 1.35L5.41 20z\"/>\n",
              "  </svg>\n",
              "      </button>\n",
              "      \n",
              "  <style>\n",
              "    .colab-df-container {\n",
              "      display:flex;\n",
              "      flex-wrap:wrap;\n",
              "      gap: 12px;\n",
              "    }\n",
              "\n",
              "    .colab-df-convert {\n",
              "      background-color: #E8F0FE;\n",
              "      border: none;\n",
              "      border-radius: 50%;\n",
              "      cursor: pointer;\n",
              "      display: none;\n",
              "      fill: #1967D2;\n",
              "      height: 32px;\n",
              "      padding: 0 0 0 0;\n",
              "      width: 32px;\n",
              "    }\n",
              "\n",
              "    .colab-df-convert:hover {\n",
              "      background-color: #E2EBFA;\n",
              "      box-shadow: 0px 1px 2px rgba(60, 64, 67, 0.3), 0px 1px 3px 1px rgba(60, 64, 67, 0.15);\n",
              "      fill: #174EA6;\n",
              "    }\n",
              "\n",
              "    [theme=dark] .colab-df-convert {\n",
              "      background-color: #3B4455;\n",
              "      fill: #D2E3FC;\n",
              "    }\n",
              "\n",
              "    [theme=dark] .colab-df-convert:hover {\n",
              "      background-color: #434B5C;\n",
              "      box-shadow: 0px 1px 3px 1px rgba(0, 0, 0, 0.15);\n",
              "      filter: drop-shadow(0px 1px 2px rgba(0, 0, 0, 0.3));\n",
              "      fill: #FFFFFF;\n",
              "    }\n",
              "  </style>\n",
              "\n",
              "      <script>\n",
              "        const buttonEl =\n",
              "          document.querySelector('#df-4b20bd09-1361-4571-96fd-38e102397bb3 button.colab-df-convert');\n",
              "        buttonEl.style.display =\n",
              "          google.colab.kernel.accessAllowed ? 'block' : 'none';\n",
              "\n",
              "        async function convertToInteractive(key) {\n",
              "          const element = document.querySelector('#df-4b20bd09-1361-4571-96fd-38e102397bb3');\n",
              "          const dataTable =\n",
              "            await google.colab.kernel.invokeFunction('convertToInteractive',\n",
              "                                                     [key], {});\n",
              "          if (!dataTable) return;\n",
              "\n",
              "          const docLinkHtml = 'Like what you see? Visit the ' +\n",
              "            '<a target=\"_blank\" href=https://colab.research.google.com/notebooks/data_table.ipynb>data table notebook</a>'\n",
              "            + ' to learn more about interactive tables.';\n",
              "          element.innerHTML = '';\n",
              "          dataTable['output_type'] = 'display_data';\n",
              "          await google.colab.output.renderOutput(dataTable, element);\n",
              "          const docLink = document.createElement('div');\n",
              "          docLink.innerHTML = docLinkHtml;\n",
              "          element.appendChild(docLink);\n",
              "        }\n",
              "      </script>\n",
              "    </div>\n",
              "  </div>\n",
              "  "
            ]
          },
          "metadata": {},
          "execution_count": 46
        }
      ],
      "source": [
        "# Return users, courses, and scores lists for the dataframe\n",
        "users, courses, scores = generate_recommendation_scores()\n",
        "res_dict['USER'] = users\n",
        "res_dict['COURSE_ID'] = courses\n",
        "res_dict['SCORE'] = scores\n",
        "res_df = pd.DataFrame(res_dict, columns=['USER', 'COURSE_ID', 'SCORE'])\n",
        "# Save the dataframe \n",
        "res_df.to_csv(\"profile_rs_results.csv\", index=False)\n",
        "res_df"
      ]
    },
    {
      "cell_type": "markdown",
      "metadata": {
        "id": "8imyJEkQA4Gv"
      },
      "source": [
        "*   On average, how many new courses have been recommended per test user?\n",
        "*   What are the most frequently recommended courses? Return the top-10 commonly recommended courses across all test users.\n"
      ]
    },
    {
      "cell_type": "code",
      "execution_count": 47,
      "metadata": {
        "id": "WygEElo1A4Gv",
        "outputId": "e7272b43-7122-4173-f81a-6f231a333038",
        "colab": {
          "base_uri": "https://localhost:8080/"
        }
      },
      "outputs": [
        {
          "output_type": "execute_result",
          "data": {
            "text/plain": [
              "18.62679972290352"
            ]
          },
          "metadata": {},
          "execution_count": 47
        }
      ],
      "source": [
        "res_df['SCORE'].mean()"
      ]
    },
    {
      "cell_type": "code",
      "execution_count": 48,
      "metadata": {
        "id": "3s1MnPbPA4Gw",
        "outputId": "a7fba467-3738-4560-95cb-950063f99f2f",
        "colab": {
          "base_uri": "https://localhost:8080/"
        }
      },
      "outputs": [
        {
          "output_type": "execute_result",
          "data": {
            "text/plain": [
              "COURSE_ID\n",
              "TA0106EN      608\n",
              "GPXX0IBEN     548\n",
              "excourse22    547\n",
              "excourse21    547\n",
              "ML0122EN      544\n",
              "excourse06    533\n",
              "excourse04    533\n",
              "GPXX0TY1EN    533\n",
              "excourse31    524\n",
              "excourse73    516\n",
              "dtype: int64"
            ]
          },
          "metadata": {},
          "execution_count": 48
        }
      ],
      "source": [
        "res_df.groupby('COURSE_ID').size().sort_values(ascending=False)[:10]"
      ]
    }
  ],
  "metadata": {
    "kernelspec": {
      "display_name": "Python",
      "language": "python",
      "name": "conda-env-python-py"
    },
    "language_info": {
      "codemirror_mode": {
        "name": "ipython",
        "version": 3
      },
      "file_extension": ".py",
      "mimetype": "text/x-python",
      "name": "python",
      "nbconvert_exporter": "python",
      "pygments_lexer": "ipython3",
      "version": "3.7.12"
    },
    "colab": {
      "provenance": [],
      "include_colab_link": true
    }
  },
  "nbformat": 4,
  "nbformat_minor": 0
}